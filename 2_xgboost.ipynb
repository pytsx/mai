{
 "cells": [
  {
   "cell_type": "markdown",
   "id": "e7d6af16",
   "metadata": {},
   "source": [
    "## 1. Import"
   ]
  },
  {
   "cell_type": "code",
   "execution_count": 26,
   "id": "91d70f3f",
   "metadata": {},
   "outputs": [],
   "source": [
    "# Bibliotecas principais\n",
    "import pandas as pd\n",
    "import matplotlib.pyplot as plt\n",
    "import seaborn as sns\n",
    "from core.model import ModelMetrics\n",
    "from xgboost import XGBRFClassifier, XGBClassifier\n",
    "from lightgbm import LGBMClassifier\n",
    "\n",
    "from core.dataframe import Dataframe\n",
    "\n",
    "# Salvar o modelo otimizado\n",
    "import pickle\n",
    "\n",
    "from imblearn.over_sampling import SMOTE, ADASYN\n",
    "from imblearn.under_sampling import RandomUnderSampler\n",
    "from imblearn.combine import SMOTETomek\n",
    "\n",
    "# Scikit-learn\n",
    "from sklearn.model_selection import train_test_split, GridSearchCV, RandomizedSearchCV\n",
    "from sklearn.utils.class_weight import compute_sample_weight\n",
    "\n",
    "# # Configurações de visualização\n",
    "# sns.set_style('whitegrid')\n",
    "# plt.rcParams['figure.figsize'] = (10, 6)"
   ]
  },
  {
   "cell_type": "markdown",
   "id": "13528d4a",
   "metadata": {},
   "source": [
    "## 2. Load data"
   ]
  },
  {
   "cell_type": "code",
   "execution_count": 27,
   "id": "353aa453",
   "metadata": {},
   "outputs": [
    {
     "name": "stdout",
     "output_type": "stream",
     "text": [
      "Informações do dataset:\n",
      "Shape do dataset: (430554, 61)\n",
      "\n",
      "Distribuição da variável target:\n",
      "shape: (2, 2)\n",
      "┌──────────┬────────┐\n",
      "│ ANTECIPA ┆ count  │\n",
      "│ ---      ┆ ---    │\n",
      "│ i64      ┆ u32    │\n",
      "╞══════════╪════════╡\n",
      "│ 1        ┆ 24779  │\n",
      "│ 0        ┆ 405775 │\n",
      "└──────────┴────────┘\n",
      "==================================\n",
      "Proporção: shape: (2, 2)\n",
      "┌──────────┬────────────┐\n",
      "│ ANTECIPA ┆ proportion │\n",
      "│ ---      ┆ ---        │\n",
      "│ i64      ┆ f64        │\n",
      "╞══════════╪════════════╡\n",
      "│ 0        ┆ 0.942449   │\n",
      "│ 1        ┆ 0.057551   │\n",
      "└──────────┴────────────┘\n",
      "\n",
      "Primeiras linhas:\n"
     ]
    },
    {
     "data": {
      "text/html": [
       "<div><style>\n",
       ".dataframe > thead > tr,\n",
       ".dataframe > tbody > tr {\n",
       "  text-align: right;\n",
       "  white-space: pre-wrap;\n",
       "}\n",
       "</style>\n",
       "<small>shape: (5, 61)</small><table border=\"1\" class=\"dataframe\"><thead><tr><th>ANTECIPA</th><th>dias_desde_ultima_antecipacao</th><th>CNPJ</th><th>dias_ate_primeira_antecipacao</th><th>TPV_CRED</th><th>QTD_TRN UNICA</th><th>dias_desde_primeiro_tpv</th><th>SALDO UNICA</th><th>UF</th><th>CIDADE</th><th>GERENTE</th><th>Região</th><th>ema7_SALDO UNICA_CNPJ</th><th>ema15_SALDO UNICA_CNPJ</th><th>ema30_SALDO UNICA_CNPJ</th><th>ema60_SALDO UNICA_CNPJ</th><th>ema90_SALDO UNICA_CNPJ</th><th>ema7_TPV_CRED_CNPJ</th><th>ema15_TPV_CRED_CNPJ</th><th>ema30_TPV_CRED_CNPJ</th><th>ema60_TPV_CRED_CNPJ</th><th>ema90_TPV_CRED_CNPJ</th><th>ema7_QTD_TRN UNICA_CNPJ</th><th>ema15_QTD_TRN UNICA_CNPJ</th><th>ema30_QTD_TRN UNICA_CNPJ</th><th>ema60_QTD_TRN UNICA_CNPJ</th><th>ema90_QTD_TRN UNICA_CNPJ</th><th>ema7_SALDO UNICA_CIDADE</th><th>ema15_SALDO UNICA_CIDADE</th><th>ema30_SALDO UNICA_CIDADE</th><th>ema60_SALDO UNICA_CIDADE</th><th>ema90_SALDO UNICA_CIDADE</th><th>ema7_TPV_CRED_CIDADE</th><th>ema15_TPV_CRED_CIDADE</th><th>ema30_TPV_CRED_CIDADE</th><th>ema60_TPV_CRED_CIDADE</th><th>ema90_TPV_CRED_CIDADE</th><th>ema7_QTD_TRN UNICA_CIDADE</th><th>ema15_QTD_TRN UNICA_CIDADE</th><th>ema30_QTD_TRN UNICA_CIDADE</th><th>ema60_QTD_TRN UNICA_CIDADE</th><th>ema90_QTD_TRN UNICA_CIDADE</th><th>ano</th><th>mes</th><th>dia</th><th>dia_semana</th><th>ema7_SALDO UNICA_dia_semana</th><th>ema15_SALDO UNICA_dia_semana</th><th>ema30_SALDO UNICA_dia_semana</th><th>ema60_SALDO UNICA_dia_semana</th><th>ema90_SALDO UNICA_dia_semana</th><th>ema7_TPV_CRED_dia_semana</th><th>ema15_TPV_CRED_dia_semana</th><th>ema30_TPV_CRED_dia_semana</th><th>ema60_TPV_CRED_dia_semana</th><th>ema90_TPV_CRED_dia_semana</th><th>ema7_QTD_TRN UNICA_dia_semana</th><th>ema15_QTD_TRN UNICA_dia_semana</th><th>ema30_QTD_TRN UNICA_dia_semana</th><th>ema60_QTD_TRN UNICA_dia_semana</th><th>ema90_QTD_TRN UNICA_dia_semana</th></tr><tr><td>i64</td><td>i64</td><td>i64</td><td>f64</td><td>f64</td><td>i64</td><td>i64</td><td>f64</td><td>i64</td><td>i64</td><td>i64</td><td>i64</td><td>f64</td><td>f64</td><td>f64</td><td>f64</td><td>f64</td><td>f64</td><td>f64</td><td>f64</td><td>f64</td><td>f64</td><td>f64</td><td>f64</td><td>f64</td><td>f64</td><td>f64</td><td>f64</td><td>f64</td><td>f64</td><td>f64</td><td>f64</td><td>f64</td><td>f64</td><td>f64</td><td>f64</td><td>f64</td><td>f64</td><td>f64</td><td>f64</td><td>f64</td><td>f64</td><td>i64</td><td>i64</td><td>i64</td><td>i64</td><td>f64</td><td>f64</td><td>f64</td><td>f64</td><td>f64</td><td>f64</td><td>f64</td><td>f64</td><td>f64</td><td>f64</td><td>f64</td><td>f64</td><td>f64</td><td>f64</td><td>f64</td></tr></thead><tbody><tr><td>0</td><td>270</td><td>24940522000131</td><td>-2.0</td><td>3949.99</td><td>50</td><td>643</td><td>75074.49</td><td>0</td><td>0</td><td>0</td><td>0</td><td>75074.49</td><td>75074.49</td><td>75074.49</td><td>75074.49</td><td>75074.49</td><td>3949.99</td><td>3949.99</td><td>3949.99</td><td>3949.99</td><td>3949.99</td><td>50.0</td><td>50.0</td><td>50.0</td><td>50.0</td><td>50.0</td><td>75074.49</td><td>75074.49</td><td>75074.49</td><td>75074.49</td><td>75074.49</td><td>3949.99</td><td>3949.99</td><td>3949.99</td><td>3949.99</td><td>3949.99</td><td>50.0</td><td>50.0</td><td>50.0</td><td>50.0</td><td>50.0</td><td>2025</td><td>1</td><td>20</td><td>0</td><td>75074.49</td><td>75074.49</td><td>75074.49</td><td>75074.49</td><td>75074.49</td><td>3949.99</td><td>3949.99</td><td>3949.99</td><td>3949.99</td><td>3949.99</td><td>50.0</td><td>50.0</td><td>50.0</td><td>50.0</td><td>50.0</td></tr><tr><td>0</td><td>270</td><td>2795617000176</td><td>0.0</td><td>31433.2</td><td>272</td><td>1478</td><td>1.2827e6</td><td>1</td><td>1</td><td>1</td><td>0</td><td>1.2827e6</td><td>1.2827e6</td><td>1.2827e6</td><td>1.2827e6</td><td>1.2827e6</td><td>31433.2</td><td>31433.2</td><td>31433.2</td><td>31433.2</td><td>31433.2</td><td>272.0</td><td>272.0</td><td>272.0</td><td>272.0</td><td>272.0</td><td>1.2827e6</td><td>1.2827e6</td><td>1.2827e6</td><td>1.2827e6</td><td>1.2827e6</td><td>31433.2</td><td>31433.2</td><td>31433.2</td><td>31433.2</td><td>31433.2</td><td>272.0</td><td>272.0</td><td>272.0</td><td>272.0</td><td>272.0</td><td>2025</td><td>1</td><td>20</td><td>0</td><td>678904.15</td><td>678904.15</td><td>678904.15</td><td>678904.15</td><td>678904.15</td><td>17691.595</td><td>17691.595</td><td>17691.595</td><td>17691.595</td><td>17691.595</td><td>161.0</td><td>161.0</td><td>161.0</td><td>161.0</td><td>161.0</td></tr><tr><td>0</td><td>270</td><td>2795617000257</td><td>0.0</td><td>9875.92</td><td>107</td><td>1478</td><td>313468.28</td><td>1</td><td>1</td><td>1</td><td>0</td><td>313468.28</td><td>313468.28</td><td>313468.28</td><td>313468.28</td><td>313468.28</td><td>9875.92</td><td>9875.92</td><td>9875.92</td><td>9875.92</td><td>9875.92</td><td>107.0</td><td>107.0</td><td>107.0</td><td>107.0</td><td>107.0</td><td>798101.045</td><td>798101.045</td><td>798101.045</td><td>798101.045</td><td>798101.045</td><td>20654.56</td><td>20654.56</td><td>20654.56</td><td>20654.56</td><td>20654.56</td><td>189.5</td><td>189.5</td><td>189.5</td><td>189.5</td><td>189.5</td><td>2025</td><td>1</td><td>20</td><td>0</td><td>557092.193333</td><td>557092.193333</td><td>557092.193333</td><td>557092.193333</td><td>557092.193333</td><td>15086.37</td><td>15086.37</td><td>15086.37</td><td>15086.37</td><td>15086.37</td><td>143.0</td><td>143.0</td><td>143.0</td><td>143.0</td><td>143.0</td></tr><tr><td>0</td><td>270</td><td>24332670000173</td><td>0.0</td><td>9.99</td><td>1</td><td>1876</td><td>5744.37</td><td>1</td><td>2</td><td>1</td><td>0</td><td>5744.37</td><td>5744.37</td><td>5744.37</td><td>5744.37</td><td>5744.37</td><td>9.99</td><td>9.99</td><td>9.99</td><td>9.99</td><td>9.99</td><td>1.0</td><td>1.0</td><td>1.0</td><td>1.0</td><td>1.0</td><td>5744.37</td><td>5744.37</td><td>5744.37</td><td>5744.37</td><td>5744.37</td><td>9.99</td><td>9.99</td><td>9.99</td><td>9.99</td><td>9.99</td><td>1.0</td><td>1.0</td><td>1.0</td><td>1.0</td><td>1.0</td><td>2025</td><td>1</td><td>20</td><td>0</td><td>419255.2375</td><td>419255.2375</td><td>419255.2375</td><td>419255.2375</td><td>419255.2375</td><td>11317.275</td><td>11317.275</td><td>11317.275</td><td>11317.275</td><td>11317.275</td><td>107.5</td><td>107.5</td><td>107.5</td><td>107.5</td><td>107.5</td></tr><tr><td>0</td><td>270</td><td>7434995000148</td><td>0.0</td><td>6013.32</td><td>66</td><td>1725</td><td>281961.09</td><td>1</td><td>2</td><td>1</td><td>0</td><td>281961.09</td><td>281961.09</td><td>281961.09</td><td>281961.09</td><td>281961.09</td><td>6013.32</td><td>6013.32</td><td>6013.32</td><td>6013.32</td><td>6013.32</td><td>66.0</td><td>66.0</td><td>66.0</td><td>66.0</td><td>66.0</td><td>143852.73</td><td>143852.73</td><td>143852.73</td><td>143852.73</td><td>143852.73</td><td>3011.655</td><td>3011.655</td><td>3011.655</td><td>3011.655</td><td>3011.655</td><td>33.5</td><td>33.5</td><td>33.5</td><td>33.5</td><td>33.5</td><td>2025</td><td>1</td><td>20</td><td>0</td><td>391796.408</td><td>391796.408</td><td>391796.408</td><td>391796.408</td><td>391796.408</td><td>10256.484</td><td>10256.484</td><td>10256.484</td><td>10256.484</td><td>10256.484</td><td>99.2</td><td>99.2</td><td>99.2</td><td>99.2</td><td>99.2</td></tr></tbody></table></div>"
      ],
      "text/plain": [
       "shape: (5, 61)\n",
       "┌──────────┬───────────┬───────────┬───────────┬───┬───────────┬───────────┬───────────┬───────────┐\n",
       "│ ANTECIPA ┆ dias_desd ┆ CNPJ      ┆ dias_ate_ ┆ … ┆ ema15_QTD ┆ ema30_QTD ┆ ema60_QTD ┆ ema90_QTD │\n",
       "│ ---      ┆ e_ultima_ ┆ ---       ┆ primeira_ ┆   ┆ _TRN UNIC ┆ _TRN UNIC ┆ _TRN UNIC ┆ _TRN UNIC │\n",
       "│ i64      ┆ antecipac ┆ i64       ┆ antecipac ┆   ┆ A_dia_sem ┆ A_dia_sem ┆ A_dia_sem ┆ A_dia_sem │\n",
       "│          ┆ ao        ┆           ┆ ao        ┆   ┆ ana       ┆ ana       ┆ ana       ┆ ana       │\n",
       "│          ┆ ---       ┆           ┆ ---       ┆   ┆ ---       ┆ ---       ┆ ---       ┆ ---       │\n",
       "│          ┆ i64       ┆           ┆ f64       ┆   ┆ f64       ┆ f64       ┆ f64       ┆ f64       │\n",
       "╞══════════╪═══════════╪═══════════╪═══════════╪═══╪═══════════╪═══════════╪═══════════╪═══════════╡\n",
       "│ 0        ┆ 270       ┆ 249405220 ┆ -2.0      ┆ … ┆ 50.0      ┆ 50.0      ┆ 50.0      ┆ 50.0      │\n",
       "│          ┆           ┆ 00131     ┆           ┆   ┆           ┆           ┆           ┆           │\n",
       "│ 0        ┆ 270       ┆ 279561700 ┆ 0.0       ┆ … ┆ 161.0     ┆ 161.0     ┆ 161.0     ┆ 161.0     │\n",
       "│          ┆           ┆ 0176      ┆           ┆   ┆           ┆           ┆           ┆           │\n",
       "│ 0        ┆ 270       ┆ 279561700 ┆ 0.0       ┆ … ┆ 143.0     ┆ 143.0     ┆ 143.0     ┆ 143.0     │\n",
       "│          ┆           ┆ 0257      ┆           ┆   ┆           ┆           ┆           ┆           │\n",
       "│ 0        ┆ 270       ┆ 243326700 ┆ 0.0       ┆ … ┆ 107.5     ┆ 107.5     ┆ 107.5     ┆ 107.5     │\n",
       "│          ┆           ┆ 00173     ┆           ┆   ┆           ┆           ┆           ┆           │\n",
       "│ 0        ┆ 270       ┆ 743499500 ┆ 0.0       ┆ … ┆ 99.2      ┆ 99.2      ┆ 99.2      ┆ 99.2      │\n",
       "│          ┆           ┆ 0148      ┆           ┆   ┆           ┆           ┆           ┆           │\n",
       "└──────────┴───────────┴───────────┴───────────┴───┴───────────┴───────────┴───────────┴───────────┘"
      ]
     },
     "execution_count": 27,
     "metadata": {},
     "output_type": "execute_result"
    }
   ],
   "source": [
    "# Carregar os dados normalizados\n",
    "df = Dataframe.read_csv(\"./datasource/train_base.csv\")\n",
    "\n",
    "# Verificar informações do dataset\n",
    "print(\"Informações do dataset:\")\n",
    "print(\"Shape do dataset:\", df.shape)\n",
    "\n",
    "print(\"\\nDistribuição da variável target:\")\n",
    "print(df['ANTECIPA'].value_counts())\n",
    "print(\"=\" * 34)\n",
    "print(f\"Proporção: {df['ANTECIPA'].value_counts(normalize=True)}\")\n",
    "\n",
    "# Visualizar as primeiras linhas\n",
    "print(\"\\nPrimeiras linhas:\")\n",
    "df.head()\n"
   ]
  },
  {
   "cell_type": "code",
   "execution_count": 28,
   "id": "ac555263",
   "metadata": {},
   "outputs": [],
   "source": [
    "# Separar features (X) e target (y)\n",
    "features = df.drop('ANTECIPA', strict=True)\n",
    "target = df['ANTECIPA']"
   ]
  },
  {
   "cell_type": "code",
   "execution_count": 29,
   "id": "fe395816",
   "metadata": {},
   "outputs": [],
   "source": [
    "from core.dataframe import Series, ArrayLike\n",
    "from dataclasses import dataclass \n",
    "from typing import Literal \n",
    "import numpy as np \n",
    "\n",
    "@dataclass \n",
    "class DatasetPartitioner:\n",
    "  features: Dataframe\n",
    "  target: Series\n",
    "  test_size:float=None\n",
    "  train_size: float=None\n",
    "  random_state: int=None\n",
    "  shuffle: bool=True\n",
    "  stratify: Series=None\n",
    "  \n",
    "  def split(self) -> list[Series]:\n",
    "    X_train, X_test, y_train, y_test = train_test_split(self.features, self.target, \n",
    "      test_size=self.test_size,\n",
    "      train_size=self.train_size,\n",
    "      random_state=self.random_state, \n",
    "      shuffle=self.shuffle,  \n",
    "      stratify=self.target\n",
    "    )\n",
    "    \n",
    "    return X_train, X_test, y_train, y_test\n",
    "  \n",
    "  def compute_weight(self, y_train: Series, class_weight: dict | Literal[\"balanced\"] = \"balanced\", indices: ArrayLike | None = None):\n",
    "    # Evita 'truth value of a Series is ambiguous'\n",
    "    if y_train is None or len(y_train) == 0:\n",
    "      return None\n",
    "    y = y_train.to_numpy() if hasattr(y_train, \"to_numpy\") else np.asarray(y_train)\n",
    "    return compute_sample_weight(class_weight=class_weight, y=y, indices=indices)"
   ]
  },
  {
   "cell_type": "markdown",
   "id": "699763dc",
   "metadata": {},
   "source": [
    "## 3. Sets (train, test)"
   ]
  },
  {
   "cell_type": "code",
   "execution_count": 30,
   "id": "86712e6e",
   "metadata": {},
   "outputs": [
    {
     "name": "stdout",
     "output_type": "stream",
     "text": [
      "Tamanho do conjunto de treino: 344443 amostras\n",
      "Tamanho do conjunto de teste: 86111 amostras\n",
      "\n",
      "Distribuição no treino:\n",
      "shape: (2, 2)\n",
      "┌──────────┬────────┐\n",
      "│ ANTECIPA ┆ count  │\n",
      "│ ---      ┆ ---    │\n",
      "│ i64      ┆ u32    │\n",
      "╞══════════╪════════╡\n",
      "│ 1        ┆ 19823  │\n",
      "│ 0        ┆ 324620 │\n",
      "└──────────┴────────┘\n",
      "\n",
      "Distribuição no teste:\n",
      "shape: (2, 2)\n",
      "┌──────────┬───────┐\n",
      "│ ANTECIPA ┆ count │\n",
      "│ ---      ┆ ---   │\n",
      "│ i64      ┆ u32   │\n",
      "╞══════════╪═══════╡\n",
      "│ 0        ┆ 81155 │\n",
      "│ 1        ┆ 4956  │\n",
      "└──────────┴───────┘\n"
     ]
    }
   ],
   "source": [
    "# Dividir dados em treino e teste (80% treino, 20% teste)\n",
    "data_splitter = DatasetPartitioner(\n",
    "    features, target, \n",
    "    test_size=0.2, \n",
    "    random_state=42, \n",
    "    stratify=target\n",
    ")\n",
    "\n",
    "X_train, X_test, y_train, y_test = data_splitter.split()\n",
    "\n",
    "w_train = data_splitter.compute_weight(y_train)\n",
    "\n",
    "print(f\"Tamanho do conjunto de treino: {X_train.shape[0]} amostras\")\n",
    "print(f\"Tamanho do conjunto de teste: {X_test.shape[0]} amostras\")\n",
    "print(f\"\\nDistribuição no treino:\\n{y_train.value_counts()}\")\n",
    "print(f\"\\nDistribuição no teste:\\n{y_test.value_counts()}\")"
   ]
  },
  {
   "cell_type": "markdown",
   "id": "5fad5f92",
   "metadata": {},
   "source": [
    "## Tratar desbalanceamento: Smote"
   ]
  },
  {
   "cell_type": "code",
   "execution_count": null,
   "id": "fea32166",
   "metadata": {},
   "outputs": [],
   "source": [
    "# Opção 1: SMOTE (Over-sampling da classe minoritária)\n",
    "#smote = SMOTE(random_state=42, k_neighbors=5)\n",
    "#X_train, y_train = smote.fit_resample(X_train, y_train)\n",
    "\n",
    "# Opção 2: Under-sampling + Over-sampling combinados\n",
    "# smote_tomek = SMOTETomek(\n",
    "#   random_state=42,\n",
    "#   smote=SMOTE(),\n",
    "#   n_jobs=-1\n",
    "# )\n",
    "# X_train, y_train = smote_tomek.fit_resample(X_train, y_train)\n",
    "\n",
    "\n",
    "# print(\"Distribuição balanceada:\", pd.Series(y_train).value_counts())\n"
   ]
  },
  {
   "cell_type": "markdown",
   "id": "aa63221a",
   "metadata": {},
   "source": [
    "# Alternativa 1: LGBMClassifier"
   ]
  },
  {
   "cell_type": "code",
   "execution_count": 42,
   "id": "ff7dd0fd",
   "metadata": {},
   "outputs": [
    {
     "name": "stderr",
     "output_type": "stream",
     "text": [
      "[I 2025-10-19 21:30:12,482] A new study created in memory with name: no-name-4e2e71a9-cbec-4046-87d6-ba4258cfd428\n",
      "Best trial: 0. Best value: 0.273706:   5%|▌         | 1/20 [00:10<03:16, 10.36s/it]"
     ]
    },
    {
     "name": "stdout",
     "output_type": "stream",
     "text": [
      "[I 2025-10-19 21:30:22,836] Trial 0 finished with value: 0.27370550389121456 and parameters: {'n_estimators': 3100, 'max_depth': 7, 'learning_rate': 0.040310701280916975, 'num_leaves': 150, 'min_child_samples': 33, 'subsample': 0.8001360351435503, 'colsample_bytree': 0.989777963235356, 'reg_alpha': 0.005931956638162322, 'reg_lambda': 4.5171692398763374, 'scale_pos_weight': 8.18796347676941}. Best is trial 0 with value: 0.27370550389121456.\n"
     ]
    },
    {
     "name": "stderr",
     "output_type": "stream",
     "text": [
      "Best trial: 1. Best value: 0.454465:  10%|█         | 2/20 [00:40<06:38, 22.14s/it]"
     ]
    },
    {
     "name": "stdout",
     "output_type": "stream",
     "text": [
      "[I 2025-10-19 21:30:53,219] Trial 1 finished with value: 0.4544653501269891 and parameters: {'n_estimators': 2900, 'max_depth': 11, 'learning_rate': 0.08394030106514463, 'num_leaves': 139, 'min_child_samples': 28, 'subsample': 0.9619375002231725, 'colsample_bytree': 0.644511745039182, 'reg_alpha': 0.005366493892175037, 'reg_lambda': 1.4392252321569496, 'scale_pos_weight': 32.75185390707764}. Best is trial 1 with value: 0.4544653501269891.\n"
     ]
    },
    {
     "name": "stderr",
     "output_type": "stream",
     "text": [
      "Best trial: 1. Best value: 0.454465:  15%|█▌        | 3/20 [00:49<04:36, 16.24s/it]"
     ]
    },
    {
     "name": "stdout",
     "output_type": "stream",
     "text": [
      "[I 2025-10-19 21:31:02,436] Trial 2 finished with value: 0.17468182952479414 and parameters: {'n_estimators': 2800, 'max_depth': 7, 'learning_rate': 0.01896721421290244, 'num_leaves': 145, 'min_child_samples': 34, 'subsample': 0.9302986926492844, 'colsample_bytree': 0.6185074881906745, 'reg_alpha': 0.023292839434681245, 'reg_lambda': 1.9688927303527115, 'scale_pos_weight': 24.563890430308227}. Best is trial 1 with value: 0.4544653501269891.\n"
     ]
    },
    {
     "name": "stderr",
     "output_type": "stream",
     "text": [
      "Best trial: 1. Best value: 0.454465:  20%|██        | 4/20 [01:07<04:27, 16.69s/it]"
     ]
    },
    {
     "name": "stdout",
     "output_type": "stream",
     "text": [
      "[I 2025-10-19 21:31:19,825] Trial 3 finished with value: 0.2796977793099486 and parameters: {'n_estimators': 3100, 'max_depth': 10, 'learning_rate': 0.019149679169300188, 'num_leaves': 146, 'min_child_samples': 30, 'subsample': 0.6884835445458579, 'colsample_bytree': 0.8397318312801582, 'reg_alpha': 0.008477710249106988, 'reg_lambda': 2.8738086530263964, 'scale_pos_weight': 8.18796347676941}. Best is trial 1 with value: 0.4544653501269891.\n"
     ]
    },
    {
     "name": "stderr",
     "output_type": "stream",
     "text": [
      "Best trial: 1. Best value: 0.454465:  25%|██▌       | 5/20 [01:18<03:37, 14.52s/it]"
     ]
    },
    {
     "name": "stdout",
     "output_type": "stream",
     "text": [
      "[I 2025-10-19 21:31:30,504] Trial 4 finished with value: 0.19710203668051474 and parameters: {'n_estimators': 2900, 'max_depth': 8, 'learning_rate': 0.019870882127820812, 'num_leaves': 130, 'min_child_samples': 31, 'subsample': 0.887014935280081, 'colsample_bytree': 0.630860899818922, 'reg_alpha': 0.0028100842004761344, 'reg_lambda': 0.6294733172554053, 'scale_pos_weight': 24.563890430308227}. Best is trial 1 with value: 0.4544653501269891.\n"
     ]
    },
    {
     "name": "stderr",
     "output_type": "stream",
     "text": [
      "Best trial: 1. Best value: 0.454465:  30%|███       | 6/20 [01:34<03:34, 15.30s/it]"
     ]
    },
    {
     "name": "stdout",
     "output_type": "stream",
     "text": [
      "[I 2025-10-19 21:31:47,315] Trial 5 finished with value: 0.24661403818507402 and parameters: {'n_estimators': 3200, 'max_depth': 11, 'learning_rate': 0.026853591146741213, 'num_leaves': 149, 'min_child_samples': 35, 'subsample': 0.5388314735098645, 'colsample_bytree': 0.9656125719630502, 'reg_alpha': 0.005860278024942943, 'reg_lambda': 4.975945193616235, 'scale_pos_weight': 32.75185390707764}. Best is trial 1 with value: 0.4544653501269891.\n"
     ]
    },
    {
     "name": "stderr",
     "output_type": "stream",
     "text": [
      "Best trial: 6. Best value: 0.59945:  35%|███▌      | 7/20 [03:22<09:52, 45.58s/it] "
     ]
    },
    {
     "name": "stdout",
     "output_type": "stream",
     "text": [
      "[I 2025-10-19 21:33:35,215] Trial 6 finished with value: 0.5994498882585525 and parameters: {'n_estimators': 2800, 'max_depth': 8, 'learning_rate': 0.06573347870995418, 'num_leaves': 145, 'min_child_samples': 34, 'subsample': 0.6307945780871365, 'colsample_bytree': 0.5240945929500216, 'reg_alpha': 0.0026941711765498355, 'reg_lambda': 0.7770874948938388, 'scale_pos_weight': 8.18796347676941}. Best is trial 6 with value: 0.5994498882585525.\n"
     ]
    },
    {
     "name": "stderr",
     "output_type": "stream",
     "text": [
      "Best trial: 6. Best value: 0.59945:  40%|████      | 8/20 [03:43<07:30, 37.53s/it]"
     ]
    },
    {
     "name": "stdout",
     "output_type": "stream",
     "text": [
      "[I 2025-10-19 21:33:55,512] Trial 7 finished with value: 0.2602050326188257 and parameters: {'n_estimators': 3000, 'max_depth': 11, 'learning_rate': 0.013141323388722875, 'num_leaves': 132, 'min_child_samples': 38, 'subsample': 0.5448179084748774, 'colsample_bytree': 0.9954927782740429, 'reg_alpha': 0.0027590153046174824, 'reg_lambda': 3.378390222340355, 'scale_pos_weight': 16.37592695353882}. Best is trial 6 with value: 0.5994498882585525.\n"
     ]
    },
    {
     "name": "stderr",
     "output_type": "stream",
     "text": [
      "Best trial: 6. Best value: 0.59945:  45%|████▌     | 9/20 [03:58<05:36, 30.61s/it]"
     ]
    },
    {
     "name": "stdout",
     "output_type": "stream",
     "text": [
      "[I 2025-10-19 21:34:10,924] Trial 8 finished with value: 0.2761147401306447 and parameters: {'n_estimators': 3000, 'max_depth': 9, 'learning_rate': 0.018392990044372226, 'num_leaves': 150, 'min_child_samples': 29, 'subsample': 0.7990023947525215, 'colsample_bytree': 0.6343473016137929, 'reg_alpha': 0.014465313412308722, 'reg_lambda': 2.9984538114052253, 'scale_pos_weight': 8.18796347676941}. Best is trial 6 with value: 0.5994498882585525.\n"
     ]
    },
    {
     "name": "stderr",
     "output_type": "stream",
     "text": [
      "Best trial: 6. Best value: 0.59945:  50%|█████     | 10/20 [04:17<04:30, 27.09s/it]"
     ]
    },
    {
     "name": "stdout",
     "output_type": "stream",
     "text": [
      "[I 2025-10-19 21:34:30,121] Trial 9 finished with value: 0.2583068783068783 and parameters: {'n_estimators': 3200, 'max_depth': 9, 'learning_rate': 0.012593120810452387, 'num_leaves': 132, 'min_child_samples': 32, 'subsample': 0.9708061806393429, 'colsample_bytree': 0.7378247485710718, 'reg_alpha': 0.008035557856435855, 'reg_lambda': 3.8696018350174737, 'scale_pos_weight': 16.37592695353882}. Best is trial 6 with value: 0.5994498882585525.\n"
     ]
    },
    {
     "name": "stderr",
     "output_type": "stream",
     "text": [
      "Best trial: 6. Best value: 0.59945:  55%|█████▌    | 11/20 [04:47<04:12, 28.08s/it]"
     ]
    },
    {
     "name": "stdout",
     "output_type": "stream",
     "text": [
      "[I 2025-10-19 21:35:00,428] Trial 10 finished with value: 0.43515258215962443 and parameters: {'n_estimators': 2800, 'max_depth': 8, 'learning_rate': 0.09899344560310058, 'num_leaves': 140, 'min_child_samples': 36, 'subsample': 0.6445017520834092, 'colsample_bytree': 0.5118810426099968, 'reg_alpha': 0.001238740770161228, 'reg_lambda': 0.520143174461079, 'scale_pos_weight': 8.18796347676941}. Best is trial 6 with value: 0.5994498882585525.\n"
     ]
    },
    {
     "name": "stderr",
     "output_type": "stream",
     "text": [
      "Best trial: 11. Best value: 0.615104:  60%|██████    | 12/20 [06:58<07:54, 59.31s/it]"
     ]
    },
    {
     "name": "stdout",
     "output_type": "stream",
     "text": [
      "[I 2025-10-19 21:37:11,176] Trial 11 finished with value: 0.6151043090097477 and parameters: {'n_estimators': 2900, 'max_depth': 10, 'learning_rate': 0.08011362814409193, 'num_leaves': 139, 'min_child_samples': 28, 'subsample': 0.6448835650765558, 'colsample_bytree': 0.5040457615950471, 'reg_alpha': 0.055901107169381056, 'reg_lambda': 0.9750955798621678, 'scale_pos_weight': 32.75185390707764}. Best is trial 11 with value: 0.6151043090097477.\n"
     ]
    },
    {
     "name": "stderr",
     "output_type": "stream",
     "text": [
      "Best trial: 11. Best value: 0.615104:  65%|██████▌   | 13/20 [07:09<05:12, 44.58s/it]"
     ]
    },
    {
     "name": "stdout",
     "output_type": "stream",
     "text": [
      "[I 2025-10-19 21:37:21,854] Trial 12 finished with value: 0.14490015791726316 and parameters: {'n_estimators': 2800, 'max_depth': 9, 'learning_rate': 0.059356149770633554, 'num_leaves': 137, 'min_child_samples': 37, 'subsample': 0.6489546165630264, 'colsample_bytree': 0.5135922185094698, 'reg_alpha': 0.06240463176765055, 'reg_lambda': 1.0072745236816087, 'scale_pos_weight': 32.75185390707764}. Best is trial 11 with value: 0.6151043090097477.\n"
     ]
    },
    {
     "name": "stderr",
     "output_type": "stream",
     "text": [
      "Best trial: 11. Best value: 0.615104:  70%|███████   | 14/20 [09:10<06:45, 67.63s/it]"
     ]
    },
    {
     "name": "stdout",
     "output_type": "stream",
     "text": [
      "[I 2025-10-19 21:39:22,765] Trial 13 finished with value: 0.594859241126071 and parameters: {'n_estimators': 2900, 'max_depth': 10, 'learning_rate': 0.05721908671229885, 'num_leaves': 144, 'min_child_samples': 32, 'subsample': 0.5992553856446041, 'colsample_bytree': 0.5515060165108333, 'reg_alpha': 0.08647693062756903, 'reg_lambda': 0.8794398610789819, 'scale_pos_weight': 32.75185390707764}. Best is trial 11 with value: 0.6151043090097477.\n"
     ]
    },
    {
     "name": "stderr",
     "output_type": "stream",
     "text": [
      "Best trial: 11. Best value: 0.615104:  75%|███████▌  | 15/20 [09:58<05:08, 61.74s/it]"
     ]
    },
    {
     "name": "stdout",
     "output_type": "stream",
     "text": [
      "[I 2025-10-19 21:40:10,840] Trial 14 finished with value: 0.4608562529694346 and parameters: {'n_estimators': 2800, 'max_depth': 8, 'learning_rate': 0.0651737224023989, 'num_leaves': 136, 'min_child_samples': 34, 'subsample': 0.7175946733083011, 'colsample_bytree': 0.7437455175489134, 'reg_alpha': 0.03313881454819867, 'reg_lambda': 0.9381061673454226, 'scale_pos_weight': 8.18796347676941}. Best is trial 11 with value: 0.6151043090097477.\n"
     ]
    },
    {
     "name": "stderr",
     "output_type": "stream",
     "text": [
      "Best trial: 11. Best value: 0.615104:  80%|████████  | 16/20 [10:09<03:05, 46.46s/it]"
     ]
    },
    {
     "name": "stdout",
     "output_type": "stream",
     "text": [
      "[I 2025-10-19 21:40:21,831] Trial 15 finished with value: 0.21238201607428334 and parameters: {'n_estimators': 2900, 'max_depth': 10, 'learning_rate': 0.041567138428854435, 'num_leaves': 142, 'min_child_samples': 28, 'subsample': 0.5030014962323983, 'colsample_bytree': 0.5777172252277217, 'reg_alpha': 0.0011910460235225527, 'reg_lambda': 1.3777617790209533, 'scale_pos_weight': 32.75185390707764}. Best is trial 11 with value: 0.6151043090097477.\n"
     ]
    },
    {
     "name": "stderr",
     "output_type": "stream",
     "text": [
      "Best trial: 11. Best value: 0.615104:  85%|████████▌ | 17/20 [10:39<02:04, 41.53s/it]"
     ]
    },
    {
     "name": "stdout",
     "output_type": "stream",
     "text": [
      "[I 2025-10-19 21:40:51,882] Trial 16 finished with value: 0.393444037092948 and parameters: {'n_estimators': 2800, 'max_depth': 8, 'learning_rate': 0.07572922557091626, 'num_leaves': 142, 'min_child_samples': 30, 'subsample': 0.5987324337633617, 'colsample_bytree': 0.699761723144194, 'reg_alpha': 0.0028128209770980975, 'reg_lambda': 0.7184101932096657, 'scale_pos_weight': 24.563890430308227}. Best is trial 11 with value: 0.6151043090097477.\n"
     ]
    },
    {
     "name": "stderr",
     "output_type": "stream",
     "text": [
      "Best trial: 11. Best value: 0.615104:  90%|█████████ | 18/20 [10:52<01:05, 32.85s/it]"
     ]
    },
    {
     "name": "stdout",
     "output_type": "stream",
     "text": [
      "[I 2025-10-19 21:41:04,528] Trial 17 finished with value: 0.2546478579437303 and parameters: {'n_estimators': 2900, 'max_depth': 9, 'learning_rate': 0.04706550485524931, 'num_leaves': 136, 'min_child_samples': 35, 'subsample': 0.7440695119266448, 'colsample_bytree': 0.8218509118370723, 'reg_alpha': 0.04610852117928729, 'reg_lambda': 1.9411013899884737, 'scale_pos_weight': 16.37592695353882}. Best is trial 11 with value: 0.6151043090097477.\n"
     ]
    },
    {
     "name": "stderr",
     "output_type": "stream",
     "text": [
      "Best trial: 11. Best value: 0.615104:  95%|█████████▌| 19/20 [12:26<00:51, 51.24s/it]"
     ]
    },
    {
     "name": "stdout",
     "output_type": "stream",
     "text": [
      "[I 2025-10-19 21:42:38,615] Trial 18 finished with value: 0.535042735042735 and parameters: {'n_estimators': 3100, 'max_depth': 10, 'learning_rate': 0.03169986109714774, 'num_leaves': 147, 'min_child_samples': 32, 'subsample': 0.8022740635364828, 'colsample_bytree': 0.569390028162138, 'reg_alpha': 0.014707186916947362, 'reg_lambda': 1.1629947293372251, 'scale_pos_weight': 8.18796347676941}. Best is trial 11 with value: 0.6151043090097477.\n"
     ]
    },
    {
     "name": "stderr",
     "output_type": "stream",
     "text": [
      "Best trial: 11. Best value: 0.615104: 100%|██████████| 20/20 [12:36<00:00, 37.81s/it]\n"
     ]
    },
    {
     "name": "stdout",
     "output_type": "stream",
     "text": [
      "[I 2025-10-19 21:42:48,597] Trial 19 finished with value: 0.16213174445547832 and parameters: {'n_estimators': 3000, 'max_depth': 7, 'learning_rate': 0.0962414491233627, 'num_leaves': 143, 'min_child_samples': 33, 'subsample': 0.6185040493541503, 'colsample_bytree': 0.8184381508545019, 'reg_alpha': 0.02238459693470677, 'reg_lambda': 0.702341422318822, 'scale_pos_weight': 32.75185390707764}. Best is trial 11 with value: 0.6151043090097477.\n",
      "\n",
      "==================================================\n",
      "Melhores parâmetros LightGBM encontrados:\n",
      "==================================================\n",
      "n_estimators: 2900\n",
      "max_depth: 10\n",
      "learning_rate: 0.08011362814409193\n",
      "num_leaves: 139\n",
      "min_child_samples: 28\n",
      "subsample: 0.6448835650765558\n",
      "colsample_bytree: 0.5040457615950471\n",
      "reg_alpha: 0.055901107169381056\n",
      "reg_lambda: 0.9750955798621678\n",
      "scale_pos_weight: 32.75185390707764\n",
      "\n",
      "Melhor F1-Score: 0.6151\n",
      "==================================================\n",
      "Training until validation scores don't improve for 200 rounds\n",
      "Did not meet early stopping. Best iteration is:\n",
      "[2854]\tvalid_0's auc: 0.953469\tvalid_0's binary_logloss: 0.154435\n"
     ]
    },
    {
     "ename": "ValueError",
     "evalue": "The feature names should match those that were passed during fit.\nFeature names unseen at fit time:\n- CIDADE\n- CNPJ\n- GERENTE\n- QTD_TRN UNICA\n- Região\n- ...\nFeature names seen at fit time, yet now missing:\n- 0\n- 1\n- 10\n- 11\n- 12\n- ...\n",
     "output_type": "error",
     "traceback": [
      "\u001b[31m---------------------------------------------------------------------------\u001b[39m",
      "\u001b[31mValueError\u001b[39m                                Traceback (most recent call last)",
      "\u001b[36mCell\u001b[39m\u001b[36m \u001b[39m\u001b[32mIn[42]\u001b[39m\u001b[32m, line 76\u001b[39m\n\u001b[32m     66\u001b[39m best_model.fit(\n\u001b[32m     67\u001b[39m     X_train_pd,\n\u001b[32m     68\u001b[39m     y_train_pd,\n\u001b[32m   (...)\u001b[39m\u001b[32m     72\u001b[39m     sample_weight=w_train\n\u001b[32m     73\u001b[39m )\n\u001b[32m     75\u001b[39m \u001b[38;5;66;03m# Fazer previsões no conjunto de teste\u001b[39;00m\n\u001b[32m---> \u001b[39m\u001b[32m76\u001b[39m y_pred = \u001b[43mbest_model\u001b[49m\u001b[43m.\u001b[49m\u001b[43mpredict\u001b[49m\u001b[43m(\u001b[49m\u001b[43mX_test\u001b[49m\u001b[43m)\u001b[49m\n\u001b[32m     77\u001b[39m y_pred_proba = best_model.predict_proba(X_test)[:, \u001b[32m1\u001b[39m]  \u001b[38;5;66;03m# Probabilidade da classe positiva\u001b[39;00m\n\u001b[32m     79\u001b[39m ModelMetrics.print_main_metrics(y_test, y_pred, y_pred_proba)\n",
      "\u001b[36mFile \u001b[39m\u001b[32mc:\\Python312\\Lib\\site-packages\\lightgbm\\sklearn.py:1597\u001b[39m, in \u001b[36mLGBMClassifier.predict\u001b[39m\u001b[34m(self, X, raw_score, start_iteration, num_iteration, pred_leaf, pred_contrib, validate_features, **kwargs)\u001b[39m\n\u001b[32m   1585\u001b[39m \u001b[38;5;28;01mdef\u001b[39;00m\u001b[38;5;250m \u001b[39m\u001b[34mpredict\u001b[39m(\n\u001b[32m   1586\u001b[39m     \u001b[38;5;28mself\u001b[39m,\n\u001b[32m   1587\u001b[39m     X: _LGBM_ScikitMatrixLike,\n\u001b[32m   (...)\u001b[39m\u001b[32m   1594\u001b[39m     **kwargs: Any,\n\u001b[32m   1595\u001b[39m ):\n\u001b[32m   1596\u001b[39m \u001b[38;5;250m    \u001b[39m\u001b[33;03m\"\"\"Docstring is inherited from the LGBMModel.\"\"\"\u001b[39;00m\n\u001b[32m-> \u001b[39m\u001b[32m1597\u001b[39m     result = \u001b[38;5;28;43mself\u001b[39;49m\u001b[43m.\u001b[49m\u001b[43mpredict_proba\u001b[49m\u001b[43m(\u001b[49m\n\u001b[32m   1598\u001b[39m \u001b[43m        \u001b[49m\u001b[43mX\u001b[49m\u001b[43m=\u001b[49m\u001b[43mX\u001b[49m\u001b[43m,\u001b[49m\n\u001b[32m   1599\u001b[39m \u001b[43m        \u001b[49m\u001b[43mraw_score\u001b[49m\u001b[43m=\u001b[49m\u001b[43mraw_score\u001b[49m\u001b[43m,\u001b[49m\n\u001b[32m   1600\u001b[39m \u001b[43m        \u001b[49m\u001b[43mstart_iteration\u001b[49m\u001b[43m=\u001b[49m\u001b[43mstart_iteration\u001b[49m\u001b[43m,\u001b[49m\n\u001b[32m   1601\u001b[39m \u001b[43m        \u001b[49m\u001b[43mnum_iteration\u001b[49m\u001b[43m=\u001b[49m\u001b[43mnum_iteration\u001b[49m\u001b[43m,\u001b[49m\n\u001b[32m   1602\u001b[39m \u001b[43m        \u001b[49m\u001b[43mpred_leaf\u001b[49m\u001b[43m=\u001b[49m\u001b[43mpred_leaf\u001b[49m\u001b[43m,\u001b[49m\n\u001b[32m   1603\u001b[39m \u001b[43m        \u001b[49m\u001b[43mpred_contrib\u001b[49m\u001b[43m=\u001b[49m\u001b[43mpred_contrib\u001b[49m\u001b[43m,\u001b[49m\n\u001b[32m   1604\u001b[39m \u001b[43m        \u001b[49m\u001b[43mvalidate_features\u001b[49m\u001b[43m=\u001b[49m\u001b[43mvalidate_features\u001b[49m\u001b[43m,\u001b[49m\n\u001b[32m   1605\u001b[39m \u001b[43m        \u001b[49m\u001b[43m*\u001b[49m\u001b[43m*\u001b[49m\u001b[43mkwargs\u001b[49m\u001b[43m,\u001b[49m\n\u001b[32m   1606\u001b[39m \u001b[43m    \u001b[49m\u001b[43m)\u001b[49m\n\u001b[32m   1607\u001b[39m     \u001b[38;5;28;01mif\u001b[39;00m \u001b[38;5;28mcallable\u001b[39m(\u001b[38;5;28mself\u001b[39m._objective) \u001b[38;5;129;01mor\u001b[39;00m raw_score \u001b[38;5;129;01mor\u001b[39;00m pred_leaf \u001b[38;5;129;01mor\u001b[39;00m pred_contrib:\n\u001b[32m   1608\u001b[39m         \u001b[38;5;28;01mreturn\u001b[39;00m result\n",
      "\u001b[36mFile \u001b[39m\u001b[32mc:\\Python312\\Lib\\site-packages\\lightgbm\\sklearn.py:1627\u001b[39m, in \u001b[36mLGBMClassifier.predict_proba\u001b[39m\u001b[34m(self, X, raw_score, start_iteration, num_iteration, pred_leaf, pred_contrib, validate_features, **kwargs)\u001b[39m\n\u001b[32m   1615\u001b[39m \u001b[38;5;28;01mdef\u001b[39;00m\u001b[38;5;250m \u001b[39m\u001b[34mpredict_proba\u001b[39m(\n\u001b[32m   1616\u001b[39m     \u001b[38;5;28mself\u001b[39m,\n\u001b[32m   1617\u001b[39m     X: _LGBM_ScikitMatrixLike,\n\u001b[32m   (...)\u001b[39m\u001b[32m   1624\u001b[39m     **kwargs: Any,\n\u001b[32m   1625\u001b[39m ):\n\u001b[32m   1626\u001b[39m \u001b[38;5;250m    \u001b[39m\u001b[33;03m\"\"\"Docstring is set after definition, using a template.\"\"\"\u001b[39;00m\n\u001b[32m-> \u001b[39m\u001b[32m1627\u001b[39m     result = \u001b[38;5;28;43msuper\u001b[39;49m\u001b[43m(\u001b[49m\u001b[43m)\u001b[49m\u001b[43m.\u001b[49m\u001b[43mpredict\u001b[49m\u001b[43m(\u001b[49m\n\u001b[32m   1628\u001b[39m \u001b[43m        \u001b[49m\u001b[43mX\u001b[49m\u001b[43m=\u001b[49m\u001b[43mX\u001b[49m\u001b[43m,\u001b[49m\n\u001b[32m   1629\u001b[39m \u001b[43m        \u001b[49m\u001b[43mraw_score\u001b[49m\u001b[43m=\u001b[49m\u001b[43mraw_score\u001b[49m\u001b[43m,\u001b[49m\n\u001b[32m   1630\u001b[39m \u001b[43m        \u001b[49m\u001b[43mstart_iteration\u001b[49m\u001b[43m=\u001b[49m\u001b[43mstart_iteration\u001b[49m\u001b[43m,\u001b[49m\n\u001b[32m   1631\u001b[39m \u001b[43m        \u001b[49m\u001b[43mnum_iteration\u001b[49m\u001b[43m=\u001b[49m\u001b[43mnum_iteration\u001b[49m\u001b[43m,\u001b[49m\n\u001b[32m   1632\u001b[39m \u001b[43m        \u001b[49m\u001b[43mpred_leaf\u001b[49m\u001b[43m=\u001b[49m\u001b[43mpred_leaf\u001b[49m\u001b[43m,\u001b[49m\n\u001b[32m   1633\u001b[39m \u001b[43m        \u001b[49m\u001b[43mpred_contrib\u001b[49m\u001b[43m=\u001b[49m\u001b[43mpred_contrib\u001b[49m\u001b[43m,\u001b[49m\n\u001b[32m   1634\u001b[39m \u001b[43m        \u001b[49m\u001b[43mvalidate_features\u001b[49m\u001b[43m=\u001b[49m\u001b[43mvalidate_features\u001b[49m\u001b[43m,\u001b[49m\n\u001b[32m   1635\u001b[39m \u001b[43m        \u001b[49m\u001b[43m*\u001b[49m\u001b[43m*\u001b[49m\u001b[43mkwargs\u001b[49m\u001b[43m,\u001b[49m\n\u001b[32m   1636\u001b[39m \u001b[43m    \u001b[49m\u001b[43m)\u001b[49m\n\u001b[32m   1637\u001b[39m     \u001b[38;5;28;01mif\u001b[39;00m \u001b[38;5;28mcallable\u001b[39m(\u001b[38;5;28mself\u001b[39m._objective) \u001b[38;5;129;01mand\u001b[39;00m \u001b[38;5;129;01mnot\u001b[39;00m (raw_score \u001b[38;5;129;01mor\u001b[39;00m pred_leaf \u001b[38;5;129;01mor\u001b[39;00m pred_contrib):\n\u001b[32m   1638\u001b[39m         _log_warning(\n\u001b[32m   1639\u001b[39m             \u001b[33m\"\u001b[39m\u001b[33mCannot compute class probabilities or labels \u001b[39m\u001b[33m\"\u001b[39m\n\u001b[32m   1640\u001b[39m             \u001b[33m\"\u001b[39m\u001b[33mdue to the usage of customized objective function.\u001b[39m\u001b[38;5;130;01m\\n\u001b[39;00m\u001b[33m\"\u001b[39m\n\u001b[32m   1641\u001b[39m             \u001b[33m\"\u001b[39m\u001b[33mReturning raw scores instead.\u001b[39m\u001b[33m\"\u001b[39m\n\u001b[32m   1642\u001b[39m         )\n",
      "\u001b[36mFile \u001b[39m\u001b[32mc:\\Python312\\Lib\\site-packages\\lightgbm\\sklearn.py:1108\u001b[39m, in \u001b[36mLGBMModel.predict\u001b[39m\u001b[34m(self, X, raw_score, start_iteration, num_iteration, pred_leaf, pred_contrib, validate_features, **kwargs)\u001b[39m\n\u001b[32m   1106\u001b[39m     \u001b[38;5;28;01mraise\u001b[39;00m LGBMNotFittedError(\u001b[33m\"\u001b[39m\u001b[33mEstimator not fitted, call fit before exploiting the model.\u001b[39m\u001b[33m\"\u001b[39m)\n\u001b[32m   1107\u001b[39m \u001b[38;5;28;01mif\u001b[39;00m \u001b[38;5;129;01mnot\u001b[39;00m \u001b[38;5;28misinstance\u001b[39m(X, (pd_DataFrame, dt_DataTable)):\n\u001b[32m-> \u001b[39m\u001b[32m1108\u001b[39m     X = \u001b[43m_LGBMValidateData\u001b[49m\u001b[43m(\u001b[49m\n\u001b[32m   1109\u001b[39m \u001b[43m        \u001b[49m\u001b[38;5;28;43mself\u001b[39;49m\u001b[43m,\u001b[49m\n\u001b[32m   1110\u001b[39m \u001b[43m        \u001b[49m\u001b[43mX\u001b[49m\u001b[43m,\u001b[49m\n\u001b[32m   1111\u001b[39m \u001b[43m        \u001b[49m\u001b[38;5;66;43;03m# 'y' being omitted = run scikit-learn's check_array() instead of check_X_y()\u001b[39;49;00m\n\u001b[32m   1112\u001b[39m \u001b[43m        \u001b[49m\u001b[38;5;66;43;03m#\u001b[39;49;00m\n\u001b[32m   1113\u001b[39m \u001b[43m        \u001b[49m\u001b[38;5;66;43;03m# Prevent scikit-learn from deleting or modifying attributes like 'feature_names_in_' and 'n_features_in_'.\u001b[39;49;00m\n\u001b[32m   1114\u001b[39m \u001b[43m        \u001b[49m\u001b[38;5;66;43;03m# These shouldn't be changed at predict() time.\u001b[39;49;00m\n\u001b[32m   1115\u001b[39m \u001b[43m        \u001b[49m\u001b[43mreset\u001b[49m\u001b[43m=\u001b[49m\u001b[38;5;28;43;01mFalse\u001b[39;49;00m\u001b[43m,\u001b[49m\n\u001b[32m   1116\u001b[39m \u001b[43m        \u001b[49m\u001b[38;5;66;43;03m# allow any input type (this validation is done further down, in lgb.Dataset())\u001b[39;49;00m\n\u001b[32m   1117\u001b[39m \u001b[43m        \u001b[49m\u001b[43maccept_sparse\u001b[49m\u001b[43m=\u001b[49m\u001b[38;5;28;43;01mTrue\u001b[39;49;00m\u001b[43m,\u001b[49m\n\u001b[32m   1118\u001b[39m \u001b[43m        \u001b[49m\u001b[38;5;66;43;03m# do not raise an error if Inf of NaN values are found (LightGBM handles these internally)\u001b[39;49;00m\n\u001b[32m   1119\u001b[39m \u001b[43m        \u001b[49m\u001b[43mensure_all_finite\u001b[49m\u001b[43m=\u001b[49m\u001b[38;5;28;43;01mFalse\u001b[39;49;00m\u001b[43m,\u001b[49m\n\u001b[32m   1120\u001b[39m \u001b[43m        \u001b[49m\u001b[38;5;66;43;03m# raise an error on 0-row inputs\u001b[39;49;00m\n\u001b[32m   1121\u001b[39m \u001b[43m        \u001b[49m\u001b[43mensure_min_samples\u001b[49m\u001b[43m=\u001b[49m\u001b[32;43m1\u001b[39;49m\u001b[43m,\u001b[49m\n\u001b[32m   1122\u001b[39m \u001b[43m    \u001b[49m\u001b[43m)\u001b[49m\n\u001b[32m   1123\u001b[39m \u001b[38;5;66;03m# retrieve original params that possibly can be used in both training and prediction\u001b[39;00m\n\u001b[32m   1124\u001b[39m \u001b[38;5;66;03m# and then overwrite them (considering aliases) with params that were passed directly in prediction\u001b[39;00m\n\u001b[32m   1125\u001b[39m predict_params = \u001b[38;5;28mself\u001b[39m._process_params(stage=\u001b[33m\"\u001b[39m\u001b[33mpredict\u001b[39m\u001b[33m\"\u001b[39m)\n",
      "\u001b[36mFile \u001b[39m\u001b[32mc:\\Python312\\Lib\\site-packages\\sklearn\\utils\\validation.py:2929\u001b[39m, in \u001b[36mvalidate_data\u001b[39m\u001b[34m(_estimator, X, y, reset, validate_separately, skip_check_array, **check_params)\u001b[39m\n\u001b[32m   2845\u001b[39m \u001b[38;5;28;01mdef\u001b[39;00m\u001b[38;5;250m \u001b[39m\u001b[34mvalidate_data\u001b[39m(\n\u001b[32m   2846\u001b[39m     _estimator,\n\u001b[32m   2847\u001b[39m     /,\n\u001b[32m   (...)\u001b[39m\u001b[32m   2853\u001b[39m     **check_params,\n\u001b[32m   2854\u001b[39m ):\n\u001b[32m   2855\u001b[39m \u001b[38;5;250m    \u001b[39m\u001b[33;03m\"\"\"Validate input data and set or check feature names and counts of the input.\u001b[39;00m\n\u001b[32m   2856\u001b[39m \n\u001b[32m   2857\u001b[39m \u001b[33;03m    This helper function should be used in an estimator that requires input\u001b[39;00m\n\u001b[32m   (...)\u001b[39m\u001b[32m   2927\u001b[39m \u001b[33;03m        validated.\u001b[39;00m\n\u001b[32m   2928\u001b[39m \u001b[33;03m    \"\"\"\u001b[39;00m\n\u001b[32m-> \u001b[39m\u001b[32m2929\u001b[39m     \u001b[43m_check_feature_names\u001b[49m\u001b[43m(\u001b[49m\u001b[43m_estimator\u001b[49m\u001b[43m,\u001b[49m\u001b[43m \u001b[49m\u001b[43mX\u001b[49m\u001b[43m,\u001b[49m\u001b[43m \u001b[49m\u001b[43mreset\u001b[49m\u001b[43m=\u001b[49m\u001b[43mreset\u001b[49m\u001b[43m)\u001b[49m\n\u001b[32m   2930\u001b[39m     tags = get_tags(_estimator)\n\u001b[32m   2931\u001b[39m     \u001b[38;5;28;01mif\u001b[39;00m y \u001b[38;5;129;01mis\u001b[39;00m \u001b[38;5;28;01mNone\u001b[39;00m \u001b[38;5;129;01mand\u001b[39;00m tags.target_tags.required:\n",
      "\u001b[36mFile \u001b[39m\u001b[32mc:\\Python312\\Lib\\site-packages\\sklearn\\utils\\validation.py:2787\u001b[39m, in \u001b[36m_check_feature_names\u001b[39m\u001b[34m(estimator, X, reset)\u001b[39m\n\u001b[32m   2784\u001b[39m \u001b[38;5;28;01mif\u001b[39;00m \u001b[38;5;129;01mnot\u001b[39;00m missing_names \u001b[38;5;129;01mand\u001b[39;00m \u001b[38;5;129;01mnot\u001b[39;00m unexpected_names:\n\u001b[32m   2785\u001b[39m     message += \u001b[33m\"\u001b[39m\u001b[33mFeature names must be in the same order as they were in fit.\u001b[39m\u001b[38;5;130;01m\\n\u001b[39;00m\u001b[33m\"\u001b[39m\n\u001b[32m-> \u001b[39m\u001b[32m2787\u001b[39m \u001b[38;5;28;01mraise\u001b[39;00m \u001b[38;5;167;01mValueError\u001b[39;00m(message)\n",
      "\u001b[31mValueError\u001b[39m: The feature names should match those that were passed during fit.\nFeature names unseen at fit time:\n- CIDADE\n- CNPJ\n- GERENTE\n- QTD_TRN UNICA\n- Região\n- ...\nFeature names seen at fit time, yet now missing:\n- 0\n- 1\n- 10\n- 11\n- 12\n- ...\n"
     ]
    }
   ],
   "source": [
    "import optuna\n",
    "from sklearn.metrics import f1_score\n",
    "from lightgbm import LGBMClassifier\n",
    "import lightgbm as lgb\n",
    "import pandas as pd\n",
    "\n",
    "# ratio de classes para ponto de partida\n",
    "pos_weight = (y_train == 0).sum() / max(1, (y_train == 1).sum())\n",
    "\n",
    "# Converter para pandas DataFrame se necessário\n",
    "X_train_pd = pd.DataFrame(X_train) if not isinstance(X_train, pd.DataFrame) else X_train\n",
    "X_test_pd = pd.DataFrame(X_test) if not isinstance(X_test, pd.DataFrame) else X_test\n",
    "y_train_pd = pd.Series(y_train) if not isinstance(y_train, pd.Series) else y_train\n",
    "y_test_pd = pd.Series(y_test) if not isinstance(y_test, pd.Series) else y_test\n",
    "\n",
    "def objective(trial: optuna.Trial):\n",
    "    # Hiperparâmetros específicos do LightGBM\n",
    "    param = {\n",
    "        'n_estimators': trial.suggest_categorical('n_estimators', [2800, 2900, 3000, 3100, 3200]),\n",
    "        'max_depth': trial.suggest_int('max_depth', 7, 11),\n",
    "        'learning_rate': trial.suggest_float('learning_rate', 0.01, 0.1, log=True),\n",
    "        'num_leaves': trial.suggest_int('num_leaves', 130, 150),\n",
    "        'min_child_samples': trial.suggest_int('min_child_samples', 28, 38),\n",
    "        'subsample': trial.suggest_float('subsample', 0.5, 1.0),\n",
    "        'colsample_bytree': trial.suggest_float('colsample_bytree', 0.5, 1.0),\n",
    "        'reg_alpha': trial.suggest_float('reg_alpha', 0.001, 0.1, log=True),\n",
    "        'reg_lambda': trial.suggest_float('reg_lambda', 0.5, 5.0, log=True),\n",
    "        'scale_pos_weight': trial.suggest_categorical('scale_pos_weight', [0.5*pos_weight, pos_weight, 1.5*pos_weight, 2*pos_weight]),\n",
    "        'random_state': 42,\n",
    "        'n_jobs': -1,\n",
    "        'verbose': -1\n",
    "    }\n",
    "    \n",
    "    model = LGBMClassifier(**param)\n",
    "    model.fit(\n",
    "        X_train_pd,\n",
    "        y_train_pd,\n",
    "        eval_set=[(X_test_pd, y_test_pd)],\n",
    "        eval_metric='auc',\n",
    "        callbacks=[lgb.early_stopping(stopping_rounds=200, verbose=False)],\n",
    "        sample_weight=w_train\n",
    "    )\n",
    "    \n",
    "    preds = model.predict(X_test_pd)\n",
    "    f1 = f1_score(y_test_pd, preds)\n",
    "    return f1\n",
    "\n",
    "# Executar a otimização\n",
    "study = optuna.create_study(direction='maximize')\n",
    "study.optimize(objective, n_trials=20, show_progress_bar=True)\n",
    "\n",
    "# Melhor hiperparâmetro\n",
    "best_params = study.best_params\n",
    "best_score = study.best_value\n",
    "\n",
    "print(\"\\n\" + \"=\"*50)\n",
    "print(\"Melhores parâmetros LightGBM encontrados:\")\n",
    "print(\"=\"*50)\n",
    "for key, value in best_params.items():\n",
    "    print(f\"{key}: {value}\")\n",
    "print(f\"\\nMelhor F1-Score: {best_score:.4f}\")\n",
    "print(\"=\"*50)\n",
    "\n",
    "# Treinar modelo final com os melhores parâmetros\n",
    "best_model = LGBMClassifier(**best_params, random_state=42, n_jobs=-1)\n",
    "best_model.fit(\n",
    "    X_train_pd,\n",
    "    y_train_pd,\n",
    "    eval_set=[(X_test_pd, y_test_pd)],\n",
    "    eval_metric='auc',\n",
    "    callbacks=[lgb.early_stopping(stopping_rounds=200, verbose=True)],\n",
    "    sample_weight=w_train\n",
    ")\n",
    "\n",
    "# Fazer previsões no conjunto de teste\n",
    "y_pred = best_model.predict(X_test)\n",
    "y_pred_proba = best_model.predict_proba(X_test)[:, 1]  # Probabilidade da classe positiva\n",
    "\n",
    "ModelMetrics.print_main_metrics(y_test, y_pred, y_pred_proba)\n",
    "ModelMetrics.plot_precision_recall_curve(y_test, y_pred_proba)"
   ]
  },
  {
   "cell_type": "code",
   "execution_count": 43,
   "id": "509384c8",
   "metadata": {},
   "outputs": [],
   "source": [
    "# Salvar modelo\n",
    "with open('./model/xgboost_model.pkl', 'wb') as f:\n",
    "  pickle.dump(best_model, f)"
   ]
  },
  {
   "cell_type": "markdown",
   "id": "ac429f78",
   "metadata": {},
   "source": [
    "# Alternativa 2: XGBClassifier"
   ]
  },
  {
   "cell_type": "code",
   "execution_count": null,
   "id": "38097d26",
   "metadata": {},
   "outputs": [],
   "source": [
    "import optuna\n",
    "from sklearn.metrics import f1_score\n",
    "\n",
    "# n_estimators: 3500\n",
    "# max_depth: 12\n",
    "# learning_rate: 0.0464186347030953\n",
    "# min_child_weight: 1\n",
    "# subsample: 0.9634226414560139\n",
    "# colsample_bytree: 0.8185435575772733\n",
    "# reg_alpha: 0.006553575668182427\n",
    "# reg_lambda: 1.4184720994453472\n",
    "# scale_pos_weight: 8.18796347676941\n",
    "\n",
    "# ratio de classes para ponto de partida\n",
    "pos_weight = (y_train == 0).sum() / max(1, (y_train == 1).sum())\n",
    "\n",
    "def objective(trial: optuna.Trial):\n",
    "    # Defina o espaço de busca de hiperparâmetros\n",
    "    param = {\n",
    "        'n_estimators': trial.suggest_categorical('n_estimators', [2000, 2500, 3000, 3500, 4000]),\n",
    "        'max_depth': trial.suggest_int('max_depth', 6, 12),\n",
    "        'learning_rate': trial.suggest_float('learning_rate', 0.01, 0.15, log=True),\n",
    "        'min_child_weight': trial.suggest_int('min_child_weight', 1, 10),\n",
    "        'subsample': trial.suggest_float('subsample', 0.5, 1.0),\n",
    "        'colsample_bytree': trial.suggest_float('colsample_bytree', 0.5, 1.0),\n",
    "        'reg_alpha': trial.suggest_float('reg_alpha', 0.001, 0.1, log=True),\n",
    "        'reg_lambda': trial.suggest_float('reg_lambda', 0.5, 5.0, log=True),\n",
    "        'scale_pos_weight': trial.suggest_categorical('scale_pos_weight', [0.5*pos_weight, pos_weight, 1.5*pos_weight, 2*pos_weight]),\n",
    "        'eval_metric': 'aucpr',\n",
    "        'random_state': 42,\n",
    "        'n_jobs': -1,\n",
    "    }\n",
    "    model = XGBClassifier(**param)\n",
    "    model.fit(\n",
    "        X_train,\n",
    "        y_train,\n",
    "        eval_set=[(X_test, y_test)],\n",
    "        sample_weight=w_train,\n",
    "       # verbose=0,\n",
    "    )\n",
    "    preds = model.predict(X_test)\n",
    "    f1 = f1_score(y_test, preds)\n",
    "    return f1\n",
    "\n",
    "# Executar a otimização\n",
    "study = optuna.create_study(direction='maximize')\n",
    "study.optimize(objective, n_trials=10, show_progress_bar=True)\n",
    "\n",
    "# Melhor hiperparâmetro\n",
    "best_params = study.best_params\n",
    "best_score = study.best_value\n",
    "\n",
    "print(\"\\n\" + \"=\"*50)\n",
    "print(\"Melhores parâmetros encontrados:\")\n",
    "print(\"=\"*50)\n",
    "for key, value in best_params.items():\n",
    "    print(f\"{key}: {value}\")\n",
    "print(f\"\\nMelhor F1-Score: {best_score:.4f}\")\n",
    "print(\"=\"*50)\n",
    "\n",
    "# Treinar modelo final com os melhores parâmetros\n",
    "best_model = XGBClassifier(**best_params, eval_metric='aucpr', random_state=42, n_jobs=-1)\n",
    "best_model.fit(\n",
    "    X_train,\n",
    "    y_train,\n",
    "    eval_set=[(X_test, y_test)],\n",
    "    sample_weight=w_train,\n",
    "    verbose=100,\n",
    ")"
   ]
  },
  {
   "cell_type": "code",
   "execution_count": null,
   "id": "33de7408",
   "metadata": {},
   "outputs": [],
   "source": [
    "# Fazer previsões no conjunto de teste\n",
    "y_pred = best_model.predict(X_test)\n",
    "y_pred_proba = best_model.predict_proba(X_test)[:, 1]  # Probabilidade da classe positiva\n",
    "\n",
    "ModelMetrics.print_main_metrics(y_test, y_pred, y_pred_proba)\n",
    "ModelMetrics.plot_precision_recall_curve(y_test, y_pred_proba)"
   ]
  },
  {
   "cell_type": "code",
   "execution_count": null,
   "id": "7e51f5e6",
   "metadata": {},
   "outputs": [],
   "source": [
    "# Salvar modelo\n",
    "with open('./model/xgboost_model.pkl', 'wb') as f:\n",
    "  pickle.dump(best_model, f)\n",
    "    "
   ]
  },
  {
   "cell_type": "code",
   "execution_count": null,
   "id": "6a2daab6",
   "metadata": {},
   "outputs": [
    {
     "name": "stdout",
     "output_type": "stream",
     "text": [
      "[0]\tvalidation_0-logloss:1.58369\tvalidation_1-logloss:1.58366\n",
      "[100]\tvalidation_0-logloss:0.93695\tvalidation_1-logloss:0.95184\n",
      "[200]\tvalidation_0-logloss:0.77172\tvalidation_1-logloss:0.79530\n",
      "[300]\tvalidation_0-logloss:0.66422\tvalidation_1-logloss:0.69505\n",
      "[400]\tvalidation_0-logloss:0.58414\tvalidation_1-logloss:0.62117\n",
      "[500]\tvalidation_0-logloss:0.52044\tvalidation_1-logloss:0.56344\n",
      "[600]\tvalidation_0-logloss:0.46829\tvalidation_1-logloss:0.51777\n",
      "[700]\tvalidation_0-logloss:0.42066\tvalidation_1-logloss:0.47582\n",
      "[800]\tvalidation_0-logloss:0.38022\tvalidation_1-logloss:0.44112\n",
      "[900]\tvalidation_0-logloss:0.34581\tvalidation_1-logloss:0.41192\n",
      "[1000]\tvalidation_0-logloss:0.31561\tvalidation_1-logloss:0.38576\n",
      "[1100]\tvalidation_0-logloss:0.28920\tvalidation_1-logloss:0.36357\n",
      "[1200]\tvalidation_0-logloss:0.26469\tvalidation_1-logloss:0.34358\n",
      "[1300]\tvalidation_0-logloss:0.24086\tvalidation_1-logloss:0.32421\n",
      "[1400]\tvalidation_0-logloss:0.22152\tvalidation_1-logloss:0.30839\n",
      "[1500]\tvalidation_0-logloss:0.20320\tvalidation_1-logloss:0.29357\n",
      "[1600]\tvalidation_0-logloss:0.18689\tvalidation_1-logloss:0.28107\n",
      "[1700]\tvalidation_0-logloss:0.17190\tvalidation_1-logloss:0.26967\n",
      "[1800]\tvalidation_0-logloss:0.15863\tvalidation_1-logloss:0.25949\n",
      "[1900]\tvalidation_0-logloss:0.14590\tvalidation_1-logloss:0.24969\n",
      "[2000]\tvalidation_0-logloss:0.13498\tvalidation_1-logloss:0.24112\n",
      "[2100]\tvalidation_0-logloss:0.12393\tvalidation_1-logloss:0.23317\n",
      "[2199]\tvalidation_0-logloss:0.11436\tvalidation_1-logloss:0.22634\n",
      "accuracy:\t\t\t\t0.9153\n",
      "precision:\t\t\t\t0.3872\n",
      "recall:\t\t\t\t0.8079\n",
      "f1:\t\t\t\t0.5235\n",
      "roc_auc:\t\t\t\t0.9458\n",
      "Melhor threshold: 0.949\n",
      "              precision    recall  f1-score   support\n",
      "\n",
      "           0       0.97      0.98      0.98     81155\n",
      "           1       0.65      0.55      0.60      4956\n",
      "\n",
      "    accuracy                           0.96     86111\n",
      "   macro avg       0.81      0.77      0.79     86111\n",
      "weighted avg       0.95      0.96      0.96     86111\n",
      "\n"
     ]
    },
    {
     "data": {
      "image/png": "[encoded data removed]",
      "text/plain": [
       "<Figure size 640x480 with 1 Axes>"
      ]
     },
     "metadata": {},
     "output_type": "display_data"
    }
   ],
   "source": [
    "# n_estimators: 2200\n",
    "# max_depth: 6\n",
    "# learning_rate: 0.09956713728310086\n",
    "# min_child_weight: 3\n",
    "# subsample: 0.7225306264485184\n",
    "# colsample_bytree: 0.968908008504425\n",
    "# reg_alpha: 0.004550157672283642\n",
    "# reg_lambda: 0.7196738067104064\n",
    "# scale_pos_weight: 16.37592695353882\n",
    "\n",
    "model = XGBClassifier(\n",
    "    learning_rate=0.09956713728310086,\n",
    "    n_estimators=2200,\n",
    "    max_depth=6,\n",
    "    eval_metric='logloss',\n",
    "    objective='binary:logistic',\n",
    "    random_state=42,\n",
    "    n_jobs=-1,\n",
    "    subsample=0.7225306264485184,\n",
    "    colsample_bytree= 0.968908008504425,\n",
    "    reg_alpha= 0.004550157672283642,\n",
    "    reg_lambda= 0.7196738067104064,\n",
    "    scale_pos_weight= 16.37592695353882\n",
    ")\n",
    "\n",
    "model.fit(\n",
    "    X_train, \n",
    "    y_train,\n",
    "    eval_set=[(X_train, y_train), (X_test, y_test)],\n",
    "    verbose=100,\n",
    "    sample_weight=w_train,\n",
    ")\n",
    "\n",
    "# Fazer previsões no conjunto de teste\n",
    "y_pred = model.predict(X_test)\n",
    "y_pred_proba = model.predict_proba(X_test)[:, 1]  # Probabilidade da classe positiva\n",
    "\n",
    "ModelMetrics.print_main_metrics(y_test, y_pred, y_pred_proba)\n",
    "ModelMetrics.plot_precision_recall_curve(y_test, y_pred_proba)"
   ]
  },
  {
   "cell_type": "code",
   "execution_count": null,
   "id": "c570c9d3",
   "metadata": {},
   "outputs": [],
   "source": [
    "# Salvar modelo\n",
    "with open('./model/xgboost_model.pkl', 'wb') as f:\n",
    "    pickle.dump(model, f)\n",
    "    \n",
    "    "
   ]
  },
  {
   "cell_type": "markdown",
   "id": "4788a595",
   "metadata": {},
   "source": [
    "# Alternativa 3: RandomizedSearchCV"
   ]
  },
  {
   "cell_type": "code",
   "execution_count": null,
   "id": "338a3467",
   "metadata": {},
   "outputs": [],
   "source": [
    "\n",
    "from sklearn.model_selection import StratifiedKFold, RandomizedSearchCV\n",
    "\n",
    "# ratio de classes para ponto de partida\n",
    "pos_weight = (y_train == 0).sum() / max(1, (y_train == 1).sum())\n",
    "\n",
    "param_distributions = {\n",
    "  'n_estimators': [600, 800, 1000, 1200, 1500, 1800, 2200],\n",
    "  'max_depth': [3, 4, 5, 6],\n",
    "  'learning_rate': [0.02, 0.03, 0.05, 0.08, 0.1],\n",
    "  'min_child_weight': [1, 3, 5, 7],\n",
    "  'subsample': [0.7, 0.8, 0.9, 1.0],\n",
    "  'colsample_bytree': [0.6, 0.7, 0.8, 0.9, 1.0],\n",
    "  'reg_alpha': [0, 0.001, 0.01, 0.1],\n",
    "  'reg_lambda': [0.5, 1.0, 2.0, 5.0],\n",
    "  # explore ao redor do ratio\n",
    "  'scale_pos_weight': [0.5*pos_weight, pos_weight, 1.5*pos_weight, 2*pos_weight]\n",
    "}\n",
    "\n",
    "cv = StratifiedKFold(n_splits=5, shuffle=True, random_state=42)\n",
    "\n",
    "# Crie um objeto GridSearchCV, e demorar muito, usa o RandomizedSearchCV\n",
    "grid_search = RandomizedSearchCV(\n",
    "  model, \n",
    "  param_distributions, \n",
    "  cv=cv, \n",
    "  scoring='f1',\n",
    "  n_iter=40,\n",
    "  random_state=42,\n",
    "  verbose=2,\n",
    "  refit=False\n",
    ")\n",
    "\n",
    "grid_search.fit(X_train, y_train, sample_weight=w_train)\n",
    "\n",
    "# resultados\n",
    "best_params = grid_search.best_params_\n",
    "best_score = grid_search.best_score_\n",
    "\n",
    "# treino final com early stopping (sem vazamento no CV)\n",
    "final_params = {\n",
    "  **best_params,\n",
    "  'eval_metric': 'aucpr',\n",
    "  'random_state': 42,\n",
    "  'n_jobs': -1\n",
    "}\n",
    "\n",
    "best_model = XGBClassifier(**final_params)\n",
    "\n",
    "# Execute a busca em grade para encontrar a melhor combinação de hiperparâmetros\n",
    "grid_search.fit(\n",
    "  X_train, \n",
    "  y_train,  \n",
    "  eval_set=[(X_test, y_test)],\n",
    "  early_stopping_rounds=200,\n",
    "  verbose=100,\n",
    "  sample_weight=w_train\n",
    ")\n",
    "\n"
   ]
  },
  {
   "cell_type": "markdown",
   "id": "8d9b9fab",
   "metadata": {},
   "source": [
    "## 6. Predictions"
   ]
  },
  {
   "cell_type": "code",
   "execution_count": null,
   "id": "b8101f7b",
   "metadata": {},
   "outputs": [],
   "source": [
    "y_pred = best_model.predict(X_test)\n",
    "n=30\n",
    "print(f\"Primeiras {n} previsões:\")\n",
    "print(f\"Classe prevista: {y_pred[:n]}\")\n",
    "print(f\"Classe real: {y_test[:n].values}\")\n",
    "\n",
    "# Fazer previsões no conjunto de teste\n",
    "y_pred = best_model.predict(X_test)\n",
    "y_pred_proba = best_model.predict_proba(X_test)[:, 1]  # Probabilidade da classe positiva\n",
    "\n",
    "ModelMetrics.print_main_metrics(y_test, y_pred, y_pred_proba)\n",
    "\n",
    "ModelMetrics.plot_precision_recall_curve(y_test, y_pred_proba)\n",
    "\n",
    "ModelMetrics.plot_importance(model)"
   ]
  },
  {
   "cell_type": "markdown",
   "id": "a55d0da2",
   "metadata": {},
   "source": [
    "# Salvar"
   ]
  },
  {
   "cell_type": "code",
   "execution_count": 22,
   "id": "e0a52dea",
   "metadata": {},
   "outputs": [
    {
     "name": "stdout",
     "output_type": "stream",
     "text": [
      "Modelo salvo como 'xgboost_model.pkl'\n",
      "Features salvas como 'model_features.pkl'\n"
     ]
    }
   ],
   "source": [
    "\n",
    "# Salvar modelo\n",
    "with open('./model/xgboost_best_model.pkl', 'wb') as f:\n",
    "    pickle.dump(best_model, f)\n",
    "\n",
    "# Salvar também as features para uso futuro\n",
    "with open('./model/model_features.pkl', 'wb') as f:\n",
    "    pickle.dump(list(features.columns), f)\n",
    "\n",
    "print(\"Modelo salvo como 'xgboost_model.pkl'\")\n",
    "print(\"Features salvas como 'model_features.pkl'\")"
   ]
  }
 ],
 "metadata": {
  "kernelspec": {
   "display_name": "Python 3",
   "language": "python",
   "name": "python3"
  },
  "language_info": {
   "codemirror_mode": {
    "name": "ipython",
    "version": 3
   },
   "file_extension": ".py",
   "mimetype": "text/x-python",
   "name": "python",
   "nbconvert_exporter": "python",
   "pygments_lexer": "ipython3",
   "version": "3.12.1"
  }
 },
 "nbformat": 4,
 "nbformat_minor": 5
}
