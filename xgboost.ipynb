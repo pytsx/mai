{
 "cells": [
  {
   "cell_type": "markdown",
   "id": "bb451d3a",
   "metadata": {},
   "source": [
    "# Criando um Modelo XGBoost\n",
    "\n",
    "Este notebook demonstra como criar e treinar um modelo XGBoost para classificação binária usando o dataset de propensão à antecipação."
   ]
  },
  {
   "cell_type": "markdown",
   "id": "9477a96f",
   "metadata": {},
   "source": [
    "## 1. Import Required Libraries\n",
    "\n",
    "Importar as bibliotecas necessárias, incluindo XGBoost, pandas, numpy, scikit-learn e matplotlib para visualização."
   ]
  },
  {
   "cell_type": "code",
   "execution_count": null,
   "id": "91d70f3f",
   "metadata": {},
   "outputs": [],
   "source": [
    "# Bibliotecas principais\n",
    "import pandas as pd\n",
    "import numpy as np\n",
    "import matplotlib.pyplot as plt\n",
    "import seaborn as sns\n",
    "\n",
    "# XGBoost\n",
    "import xgboost as xgb\n",
    "\n",
    "# Scikit-learn\n",
    "from sklearn.model_selection import train_test_split, GridSearchCV, cross_val_score\n",
    "from sklearn.metrics import (\n",
    "    accuracy_score, \n",
    "    precision_score, \n",
    "    recall_score, \n",
    "    f1_score, \n",
    "    confusion_matrix, \n",
    "    classification_report,\n",
    "    roc_auc_score,\n",
    "    roc_curve\n",
    ")\n",
    "\n",
    "# Configurações de visualização\n",
    "sns.set_style('whitegrid')\n",
    "plt.rcParams['figure.figsize'] = (10, 6)"
   ]
  },
  {
   "cell_type": "markdown",
   "id": "13528d4a",
   "metadata": {},
   "source": [
    "## 2. Load and Prepare Data\n",
    "\n",
    "Carregar o dataset normalizado do CSV e separar as features (X) da variável target (y)."
   ]
  },
  {
   "cell_type": "code",
   "execution_count": null,
   "id": "353aa453",
   "metadata": {},
   "outputs": [],
   "source": [
    "# Carregar os dados normalizados\n",
    "df = pd.read_csv(\"data_normalized.csv\")\n",
    "\n",
    "# Visualizar as primeiras linhas\n",
    "print(\"Shape do dataset:\", df.shape)\n",
    "print(\"\\nPrimeiras linhas:\")\n",
    "df.head()"
   ]
  },
  {
   "cell_type": "code",
   "execution_count": null,
   "id": "067fb75c",
   "metadata": {},
   "outputs": [],
   "source": [
    "# Verificar informações do dataset\n",
    "print(\"Informações do dataset:\")\n",
    "print(df.info())\n",
    "print(\"\\nDistribuição da variável target:\")\n",
    "print(df['ANTECIPA'].value_counts())\n",
    "print(f\"\\nProporção: {df['ANTECIPA'].value_counts(normalize=True)}\")"
   ]
  },
  {
   "cell_type": "code",
   "execution_count": null,
   "id": "53eab4fd",
   "metadata": {},
   "outputs": [],
   "source": [
    "# Separar features (X) e target (y)\n",
    "X = df.drop('ANTECIPA', axis=1)\n",
    "y = df['ANTECIPA']\n",
    "\n",
    "print(f\"Features shape: {X.shape}\")\n",
    "print(f\"Target shape: {y.shape}\")\n",
    "print(f\"\\nNomes das features:\\n{list(X.columns)}\")"
   ]
  },
  {
   "cell_type": "code",
   "execution_count": null,
   "id": "eba95484",
   "metadata": {},
   "outputs": [],
   "source": [
    "# Limpar nomes das colunas - remover caracteres especiais\n",
    "def clean_column_names(df):\n",
    "    \"\"\"Remove caracteres especiais dos nomes das colunas\"\"\"\n",
    "    df.columns = df.columns.str.replace('[', '', regex=False)\n",
    "    df.columns = df.columns.str.replace(']', '', regex=False)\n",
    "    df.columns = df.columns.str.replace('<', '', regex=False)\n",
    "    df.columns = df.columns.str.replace('>', '', regex=False)\n",
    "    df.columns = df.columns.str.strip()\n",
    "    return df\n",
    "\n",
    "# Aplicar limpeza\n",
    "X = clean_column_names(X)\n",
    "\n",
    "print(\"Nomes das colunas após limpeza:\")\n",
    "print(list(X.columns))"
   ]
  },
  {
   "cell_type": "markdown",
   "id": "699763dc",
   "metadata": {},
   "source": [
    "## 3. Split Data into Training and Testing Sets\n",
    "\n",
    "Usar train_test_split para dividir os dados em conjuntos de treino e teste com proporções apropriadas."
   ]
  },
  {
   "cell_type": "code",
   "execution_count": null,
   "id": "86712e6e",
   "metadata": {},
   "outputs": [],
   "source": [
    "# Dividir dados em treino e teste (80% treino, 20% teste)\n",
    "X_train, X_test, y_train, y_test = train_test_split(\n",
    "    X, y, \n",
    "    test_size=0.2, \n",
    "    random_state=42, \n",
    "    stratify=y  # Manter a proporção das classes\n",
    ")\n",
    "\n",
    "print(f\"Tamanho do conjunto de treino: {X_train.shape[0]} amostras\")\n",
    "print(f\"Tamanho do conjunto de teste: {X_test.shape[0]} amostras\")\n",
    "print(f\"\\nDistribuição no treino:\\n{y_train.value_counts()}\")\n",
    "print(f\"\\nDistribuição no teste:\\n{y_test.value_counts()}\")"
   ]
  },
  {
   "cell_type": "markdown",
   "id": "5fad5f92",
   "metadata": {},
   "source": [
    "## 4. Create and Configure XGBoost Model\n",
    "\n",
    "Inicializar um classificador XGBoost com parâmetros básicos como max_depth, learning_rate, n_estimators e função objetivo para classificação binária."
   ]
  },
  {
   "cell_type": "code",
   "execution_count": null,
   "id": "6a2daab6",
   "metadata": {},
   "outputs": [],
   "source": [
    "# Criar o modelo XGBoost com parâmetros básicos\n",
    "model = xgb.XGBClassifier(\n",
    "    max_depth=4,                    # Profundidade máxima das árvores\n",
    "    learning_rate=0.05,              # Taxa de aprendizado\n",
    "    n_estimators=40,               # Número de árvores\n",
    "    objective='binary:logistic',    # Objetivo: classificação binária\n",
    "    eval_metric='logloss',          # Métrica de avaliação\n",
    "    use_label_encoder=False,\n",
    "    random_state=42,\n",
    "    n_jobs=-1                       # Usar todos os processadores\n",
    ")\n",
    "\n",
    "print(\"Modelo XGBoost criado com os seguintes parâmetros:\")\n",
    "print(model.get_params())"
   ]
  },
  {
   "cell_type": "markdown",
   "id": "4ab00ac5",
   "metadata": {},
   "source": [
    "## 5. Train the Model\n",
    "\n",
    "Treinar o modelo XGBoost nos dados de treino usando o método fit()."
   ]
  },
  {
   "cell_type": "code",
   "execution_count": null,
   "id": "d84711bf",
   "metadata": {},
   "outputs": [],
   "source": [
    "# Treinar o modelo\n",
    "print(\"Treinando o modelo...\")\n",
    "model.fit(\n",
    "    X_train, \n",
    "    y_train,\n",
    "    eval_set=[(X_train, y_train), (X_test, y_test)],\n",
    "    verbose=50  # Mostrar progresso a cada x iterações\n",
    ")\n",
    "print(\"\\nTreinamento concluído!\")"
   ]
  },
  {
   "cell_type": "code",
   "execution_count": null,
   "id": "ba21f9e5",
   "metadata": {},
   "outputs": [],
   "source": [
    "# Visualizar a curva de aprendizado\n",
    "results = model.evals_result()\n",
    "\n",
    "plt.figure(figsize=(12, 5))\n",
    "\n",
    "plt.subplot(1, 2, 1)\n",
    "plt.plot(results['validation_0']['logloss'], label='Treino')\n",
    "plt.plot(results['validation_1']['logloss'], label='Teste')\n",
    "plt.xlabel('Número de Iterações')\n",
    "plt.ylabel('Log Loss')\n",
    "plt.title('Curva de Aprendizado - Log Loss')\n",
    "plt.legend()\n",
    "plt.grid(True)\n",
    "\n",
    "plt.tight_layout()\n",
    "plt.show()"
   ]
  },
  {
   "cell_type": "markdown",
   "id": "8d9b9fab",
   "metadata": {},
   "source": [
    "## 6. Make Predictions\n",
    "\n",
    "Usar o modelo treinado para fazer previsões no conjunto de teste, incluindo previsões de classe e probabilidades."
   ]
  },
  {
   "cell_type": "code",
   "execution_count": null,
   "id": "b8101f7b",
   "metadata": {},
   "outputs": [],
   "source": [
    "# Fazer previsões no conjunto de teste\n",
    "y_pred = model.predict(X_test)\n",
    "y_pred_proba = model.predict_proba(X_test)[:, 1]  # Probabilidade da classe positiva\n",
    "\n",
    "print(\"Primeiras 10 previsões:\")\n",
    "print(f\"Classe prevista: {y_pred[:10]}\")\n",
    "print(f\"Probabilidade: {y_pred_proba[:10]}\")\n",
    "print(f\"Classe real: {y_test[:10].values}\")"
   ]
  },
  {
   "cell_type": "markdown",
   "id": "11050ebc",
   "metadata": {},
   "source": [
    "## 7. Evaluate Model Performance\n",
    "\n",
    "Calcular e exibir métricas de avaliação como acurácia, precisão, recall, F1-score e matriz de confusão. Criar um relatório de classificação e visualizar a matriz de confusão."
   ]
  },
  {
   "cell_type": "code",
   "execution_count": null,
   "id": "472c99f7",
   "metadata": {},
   "outputs": [],
   "source": [
    "# Calcular métricas de desempenho\n",
    "accuracy = accuracy_score(y_test, y_pred)\n",
    "precision = precision_score(y_test, y_pred)\n",
    "recall = recall_score(y_test, y_pred)\n",
    "f1 = f1_score(y_test, y_pred)\n",
    "roc_auc = roc_auc_score(y_test, y_pred_proba)\n",
    "\n",
    "print(\"=\" * 50)\n",
    "print(\"MÉTRICAS DE DESEMPENHO DO MODELO\")\n",
    "print(\"=\" * 50)\n",
    "print(f\"Acurácia:  {accuracy:.4f}\")\n",
    "print(f\"Precisão:  {precision:.4f}\")\n",
    "print(f\"Recall:    {recall:.4f}\")\n",
    "print(f\"F1-Score:  {f1:.4f}\")\n",
    "print(f\"ROC-AUC:   {roc_auc:.4f}\")\n",
    "print(\"=\" * 50)"
   ]
  },
  {
   "cell_type": "code",
   "execution_count": null,
   "id": "4f2a348e",
   "metadata": {},
   "outputs": [],
   "source": [
    "# Relatório de classificação completo\n",
    "print(\"\\nRELATÓRIO DE CLASSIFICAÇÃO:\")\n",
    "print(classification_report(y_test, y_pred, target_names=['Não Antecipa', 'Antecipa']))"
   ]
  },
  {
   "cell_type": "code",
   "execution_count": null,
   "id": "ddbe1718",
   "metadata": {},
   "outputs": [],
   "source": [
    "# Matriz de confusão\n",
    "cm = confusion_matrix(y_test, y_pred)\n",
    "\n",
    "plt.figure(figsize=(12, 5))\n",
    "\n",
    "# Matriz de confusão\n",
    "plt.subplot(1, 2, 1)\n",
    "sns.heatmap(cm, annot=True, fmt='d', cmap='Blues', cbar=False)\n",
    "plt.title('Matriz de Confusão')\n",
    "plt.ylabel('Valor Real')\n",
    "plt.xlabel('Valor Previsto')\n",
    "plt.xticks([0.5, 1.5], ['Não Antecipa', 'Antecipa'])\n",
    "plt.yticks([0.5, 1.5], ['Não Antecipa', 'Antecipa'])\n",
    "\n",
    "# Curva ROC\n",
    "plt.subplot(1, 2, 2)\n",
    "fpr, tpr, thresholds = roc_curve(y_test, y_pred_proba)\n",
    "plt.plot(fpr, tpr, color='darkorange', lw=2, label=f'ROC curve (AUC = {roc_auc:.4f})')\n",
    "plt.plot([0, 1], [0, 1], color='navy', lw=2, linestyle='--', label='Random')\n",
    "plt.xlim([0.0, 1.0])\n",
    "plt.ylim([0.0, 1.05])\n",
    "plt.xlabel('Taxa de Falsos Positivos')\n",
    "plt.ylabel('Taxa de Verdadeiros Positivos')\n",
    "plt.title('Curva ROC')\n",
    "plt.legend(loc=\"lower right\")\n",
    "plt.grid(True)\n",
    "\n",
    "plt.tight_layout()\n",
    "plt.show()"
   ]
  },
  {
   "cell_type": "markdown",
   "id": "43d70f30",
   "metadata": {},
   "source": [
    "## 8. Feature Importance Analysis\n",
    "\n",
    "Extrair e visualizar os scores de importância das features para entender quais variáveis contribuem mais para as previsões do modelo."
   ]
  },
  {
   "cell_type": "code",
   "execution_count": null,
   "id": "e002e069",
   "metadata": {},
   "outputs": [],
   "source": [
    "# Obter importância das features\n",
    "feature_importance = pd.DataFrame({\n",
    "    'feature': X.columns,\n",
    "    'importance': model.feature_importances_\n",
    "}).sort_values('importance', ascending=False)\n",
    "\n",
    "print(\"Top 10 Features Mais Importantes:\")\n",
    "print(feature_importance.head(10))"
   ]
  },
  {
   "cell_type": "code",
   "execution_count": null,
   "id": "d95e9722",
   "metadata": {},
   "outputs": [],
   "source": [
    "fig, ax = plt.subplots(figsize=(15, 8))\n",
    "xgb.plot_importance(model, max_num_features=15, ax=ax, importance_type='weight')\n",
    "plt.title('Importância das Features (XGBoost - Weight)')\n",
    "plt.tight_layout()\n",
    "plt.show()"
   ]
  },
  {
   "cell_type": "markdown",
   "id": "c49781b9",
   "metadata": {},
   "source": [
    "## 9. Hyperparameter Tuning with Cross-Validation\n",
    "\n",
    "Usar GridSearchCV ou RandomizedSearchCV para encontrar hiperparâmetros ótimos e melhorar o desempenho do modelo através de validação cruzada."
   ]
  },
  {
   "cell_type": "code",
   "execution_count": null,
   "id": "bf6f471b",
   "metadata": {},
   "outputs": [],
   "source": [
    "# Definir grade de hiperparâmetros para busca\n",
    "param_grid = {\n",
    "    'max_depth': [3, 5, 7, 9],\n",
    "    'learning_rate': [0.01, 0.05, 0.1, 0.2],\n",
    "    'n_estimators': [50, 100, 200],\n",
    "    'min_child_weight': [1, 3, 5],\n",
    "    'subsample': [0.8, 0.9, 1.0],\n",
    "    'colsample_bytree': [0.8, 0.9, 1.0]\n",
    "}\n",
    "\n",
    "print(\"Parâmetros para busca:\")\n",
    "for param, values in param_grid.items():\n",
    "    print(f\"  {param}: {values}\")"
   ]
  },
  {
   "cell_type": "code",
   "execution_count": null,
   "id": "5c2d4f90",
   "metadata": {},
   "outputs": [],
   "source": [
    "# Criar modelo base\n",
    "base_model = xgb.XGBClassifier(\n",
    "    objective='binary:logistic',\n",
    "    eval_metric='logloss',\n",
    "    use_label_encoder=False,\n",
    "    random_state=42,\n",
    "    n_jobs=-1\n",
    ")\n",
    "\n",
    "# Configurar GridSearchCV\n",
    "print(\"\\nIniciando GridSearchCV...\")\n",
    "print(\"Isso pode levar alguns minutos...\\n\")\n",
    "\n",
    "grid_search = GridSearchCV(\n",
    "    estimator=base_model,\n",
    "    param_grid=param_grid,\n",
    "    cv=3,                      # 3-fold cross-validation\n",
    "    scoring='roc_auc',         # Métrica de avaliação\n",
    "    verbose=2,\n",
    "    n_jobs=-1\n",
    ")\n",
    "\n",
    "# Executar busca (usar uma amostra menor para teste mais rápido)\n",
    "grid_search.fit(X_train, y_train)\n",
    "\n",
    "print(\"\\nBusca concluída!\")"
   ]
  },
  {
   "cell_type": "code",
   "execution_count": null,
   "id": "c1f51a40",
   "metadata": {},
   "outputs": [],
   "source": [
    "# Melhores parâmetros encontrados\n",
    "print(\"=\" * 50)\n",
    "print(\"MELHORES HIPERPARÂMETROS ENCONTRADOS:\")\n",
    "print(\"=\" * 50)\n",
    "for param, value in grid_search.best_params_.items():\n",
    "    print(f\"{param}: {value}\")\n",
    "print(f\"\\nMelhor Score (ROC-AUC): {grid_search.best_score_:.4f}\")\n",
    "print(\"=\" * 50)"
   ]
  },
  {
   "cell_type": "code",
   "execution_count": null,
   "id": "40fd9b09",
   "metadata": {},
   "outputs": [],
   "source": [
    "# Treinar modelo otimizado com os melhores parâmetros\n",
    "best_model = grid_search.best_estimator_\n",
    "\n",
    "# Fazer previsões com o modelo otimizado\n",
    "y_pred_best = best_model.predict(X_test)\n",
    "y_pred_proba_best = best_model.predict_proba(X_test)[:, 1]\n",
    "\n",
    "# Avaliar modelo otimizado\n",
    "accuracy_best = accuracy_score(y_test, y_pred_best)\n",
    "precision_best = precision_score(y_test, y_pred_best)\n",
    "recall_best = recall_score(y_test, y_pred_best)\n",
    "f1_best = f1_score(y_test, y_pred_best)\n",
    "roc_auc_best = roc_auc_score(y_test, y_pred_proba_best)\n",
    "\n",
    "print(\"\\n\" + \"=\" * 50)\n",
    "print(\"COMPARAÇÃO DE DESEMPENHO\")\n",
    "print(\"=\" * 50)\n",
    "print(f\"{'Métrica':<15} {'Modelo Base':<15} {'Modelo Otimizado':<15} {'Melhoria':<15}\")\n",
    "print(\"-\" * 50)\n",
    "print(f\"{'Acurácia':<15} {accuracy:<15.4f} {accuracy_best:<15.4f} {(accuracy_best-accuracy)*100:>+14.2f}%\")\n",
    "print(f\"{'Precisão':<15} {precision:<15.4f} {precision_best:<15.4f} {(precision_best-precision)*100:>+14.2f}%\")\n",
    "print(f\"{'Recall':<15} {recall:<15.4f} {recall_best:<15.4f} {(recall_best-recall)*100:>+14.2f}%\")\n",
    "print(f\"{'F1-Score':<15} {f1:<15.4f} {f1_best:<15.4f} {(f1_best-f1)*100:>+14.2f}%\")\n",
    "print(f\"{'ROC-AUC':<15} {roc_auc:<15.4f} {roc_auc_best:<15.4f} {(roc_auc_best-roc_auc)*100:>+14.2f}%\")\n",
    "print(\"=\" * 50)"
   ]
  },
  {
   "attachments": {
    "image.png": {
     "image/png": "[encoded data removed]"
    }
   },
   "cell_type": "markdown",
   "id": "e6f5dc03",
   "metadata": {},
   "source": [
    "![image.png](attachment:image.png)"
   ]
  },
  {
   "cell_type": "code",
   "execution_count": null,
   "id": "e0a52dea",
   "metadata": {},
   "outputs": [],
   "source": [
    "# Salvar o modelo otimizado\n",
    "import pickle\n",
    "\n",
    "# Salvar modelo\n",
    "with open('xgboost_model_optimized.pkl', 'wb') as f:\n",
    "    pickle.dump(best_model, f)\n",
    "\n",
    "# Salvar também as features para uso futuro\n",
    "with open('model_features.pkl', 'wb') as f:\n",
    "    pickle.dump(list(X.columns), f)\n",
    "\n",
    "print(\"Modelo otimizado salvo como 'xgboost_model_optimized.pkl'\")\n",
    "print(\"Features salvas como 'model_features.pkl'\")"
   ]
  }
 ],
 "metadata": {
  "kernelspec": {
   "display_name": "Python 3",
   "language": "python",
   "name": "python3"
  },
  "language_info": {
   "codemirror_mode": {
    "name": "ipython",
    "version": 3
   },
   "file_extension": ".py",
   "mimetype": "text/x-python",
   "name": "python",
   "nbconvert_exporter": "python",
   "pygments_lexer": "ipython3",
   "version": "3.12.1"
  }
 },
 "nbformat": 4,
 "nbformat_minor": 5
}
