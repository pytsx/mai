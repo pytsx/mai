{
 "cells": [
  {
   "cell_type": "code",
   "execution_count": null,
   "id": "f19e9e62",
   "metadata": {},
   "outputs": [],
   "source": [
    "from core.tableau import Converter\n",
    "import xgboost as xgb\n",
    "from sklearn.model_selection import train_test_split\n",
    "import sklearn.metrics as metrics\n",
    "\n",
    "import pandas as pd"
   ]
  },
  {
   "cell_type": "code",
   "execution_count": null,
   "id": "d4bddad2",
   "metadata": {},
   "outputs": [],
   "source": [
    "tbdfs = Converter(\"./Base Propensão Antecipação - v2.tdsx\").to_dataframe()\n",
    "basedf = tbdfs[0]\n",
    "basedf.columns\n"
   ]
  },
  {
   "cell_type": "code",
   "execution_count": null,
   "id": "06599338",
   "metadata": {},
   "outputs": [],
   "source": [
    "df = pd.DataFrame()\n",
    "\n",
    "df[\"CNPJ\"] = basedf[\"CNPJ\"]\n",
    "df[\"ANTECIPA\"] = basedf[\"ANTECIPA\"]\n",
    "df[\"TPV_CRED\"] = basedf[\"TPV_CRED\"]\n",
    "df[\"SALDO\"] = basedf[\"SALDO\"]"
   ]
  },
  {
   "cell_type": "code",
   "execution_count": null,
   "id": "26fb1fe6",
   "metadata": {},
   "outputs": [],
   "source": [
    "\n",
    "X = df.drop(\"ANTECIPA\",axis=1)\n",
    "Y = df[\"ANTECIPA\"]"
   ]
  },
  {
   "cell_type": "code",
   "execution_count": null,
   "id": "5c6c43c3",
   "metadata": {},
   "outputs": [],
   "source": [
    "print(df.columns)\n",
    "print(df.head())"
   ]
  },
  {
   "cell_type": "code",
   "execution_count": null,
   "id": "714e1f06",
   "metadata": {},
   "outputs": [],
   "source": [
    "X_train, X_test, Y_train, Y_test = train_test_split(\n",
    "  X, Y,\n",
    "  test_size=0.2, \n",
    ")\n",
    "\n",
    "#  n_estimators=1300,\n",
    "#   learning_rate=0.08,\n",
    "#   max_depth=4,\n",
    "  \n",
    "model = xgb.XGBClassifier(\n",
    "  n_estimators=800,\n",
    "  learning_rate=0.1,\n",
    "  max_depth=6,\n",
    "  objective=\"binary:logistic\",\n",
    "  eval_metrics=\"loglos\",\n",
    "  scale_pos_weight=5\n",
    ")\n",
    "\n",
    "model.fit(\n",
    "  X_train,\n",
    "  Y_train,\n",
    "  eval_set=[(X_train, Y_train), (X_test, Y_test)],\n",
    "  verbose=50\n",
    ")"
   ]
  },
  {
   "cell_type": "code",
   "execution_count": null,
   "id": "942387d3",
   "metadata": {},
   "outputs": [],
   "source": [
    "Y_predict = model.predict(X_test)\n",
    "\n",
    "accuracy = metrics.accuracy_score(Y_test, Y_predict)\n",
    "precision = metrics.precision_score(Y_test, Y_predict)\n",
    "recall_score=  metrics.recall_score(Y_test, Y_predict)\n",
    "\n",
    "print(accuracy)\n",
    "print(precision)\n",
    "print(recall_score)"
   ]
  }
 ],
 "metadata": {
  "kernelspec": {
   "display_name": "Python 3",
   "language": "python",
   "name": "python3"
  },
  "language_info": {
   "codemirror_mode": {
    "name": "ipython",
    "version": 3
   },
   "file_extension": ".py",
   "mimetype": "text/x-python",
   "name": "python",
   "nbconvert_exporter": "python",
   "pygments_lexer": "ipython3",
   "version": "3.12.1"
  }
 },
 "nbformat": 4,
 "nbformat_minor": 5
}
