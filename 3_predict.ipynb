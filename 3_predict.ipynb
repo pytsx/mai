{
 "cells": [
  {
   "cell_type": "code",
   "execution_count": 15,
   "id": "47d4c100",
   "metadata": {},
   "outputs": [],
   "source": [
    "import pickle\n",
    "import pandas as pd"
   ]
  },
  {
   "cell_type": "code",
   "execution_count": 16,
   "id": "6f9c00b2",
   "metadata": {},
   "outputs": [],
   "source": [
    "model_path = './model/xgboost_best_model.pkl'\n",
    "input_data_path = './datasource/test_base.csv'\n",
    "\n",
    "# Load the model\n",
    "with open(model_path, 'rb') as f:\n",
    "  model = pickle.load(f)\n",
    "\n",
    "\n",
    "# Read input data\n",
    "input_data = pd.read_csv(input_data_path)\n",
    "\n",
    "y_test = input_data[\"ANTECIPA\"]\n",
    "input_data = input_data.drop(columns=['ANTECIPA'])\n"
   ]
  },
  {
   "cell_type": "code",
   "execution_count": 17,
   "id": "004c1545",
   "metadata": {},
   "outputs": [],
   "source": [
    "predictions = model.predict(input_data)\n",
    "predictions_proba = model.predict_proba(input_data)[:, 1]\n",
    "\n",
    "df_resultado = input_data.copy()\n",
    "df_resultado['PREDICAO'] = predictions\n",
    "df_resultado['PROBABILIDADE'] = predictions_proba\n",
    "df_resultado['REAL'] = y_test"
   ]
  },
  {
   "cell_type": "code",
   "execution_count": null,
   "id": "6d75e7c3",
   "metadata": {},
   "outputs": [],
   "source": []
  },
  {
   "cell_type": "code",
   "execution_count": 18,
   "id": "54074be2",
   "metadata": {},
   "outputs": [],
   "source": [
    "df_resultado.to_csv('./output/resultado_predicoes.csv', index=False)"
   ]
  }
 ],
 "metadata": {
  "kernelspec": {
   "display_name": "Python 3",
   "language": "python",
   "name": "python3"
  },
  "language_info": {
   "codemirror_mode": {
    "name": "ipython",
    "version": 3
   },
   "file_extension": ".py",
   "mimetype": "text/x-python",
   "name": "python",
   "nbconvert_exporter": "python",
   "pygments_lexer": "ipython3",
   "version": "3.12.1"
  }
 },
 "nbformat": 4,
 "nbformat_minor": 5
}
