{
 "cells": [
  {
   "cell_type": "code",
   "execution_count": null,
   "id": "592c7b18",
   "metadata": {},
   "outputs": [],
   "source": [
    "from core.tableau import Converter\n",
    "import pandas as pd"
   ]
  },
  {
   "cell_type": "code",
   "execution_count": null,
   "id": "e7101b5b",
   "metadata": {},
   "outputs": [],
   "source": [
    "df=Converter(r\"./Base Propensão Antecipação.tdsx\").to_dataframe()\n",
    "df=df[0]\n",
    "df.head(5)"
   ]
  },
  {
   "cell_type": "code",
   "execution_count": null,
   "id": "6efe01bc",
   "metadata": {},
   "outputs": [],
   "source": [
    "df[\"[7] frequencia antecipações\"] = df[\"[7] média DATA\"]\n",
    "df[\"[15] frequencia antecipações\"] = df[\"DATA\"]\n",
    "df[\"[30] frequencia antecipações\"] = df[\"[30] média DATA\"]\n",
    "df[\"[60] frequencia antecipações\"] = df[\"[60] média DATA\"]"
   ]
  },
  {
   "cell_type": "code",
   "execution_count": null,
   "id": "cf382b53",
   "metadata": {},
   "outputs": [],
   "source": [
    "df = df.drop([\n",
    "  '[7] média DATA', \n",
    "  'DATA', \n",
    "  '[30] média DATA', \n",
    "  '[60] média DATA',\n",
    "  'PRI ANTECIPAÇÃO',\n",
    "  'ultima antecipação',\n",
    "  'PRIMEIRO TPV UNICA'\n",
    "], axis=1)"
   ]
  },
  {
   "cell_type": "code",
   "execution_count": null,
   "id": "818db8e9",
   "metadata": {},
   "outputs": [],
   "source": [
    "df[\"UF\"] = pd.factorize(df[\"UF\"])[0]\n",
    "df[\"CIDADE\"] = pd.factorize(df[\"CIDADE\"])[0]\n",
    "df[\"GERENTE\"] = pd.factorize(df[\"GERENTE\"])[0]\n",
    "df[\"Região\"] = pd.factorize(df[\"Região\"])[0]\n",
    "df[\"ANTECIPA\"] = df['ANTECIPA'].astype(int)"
   ]
  },
  {
   "cell_type": "code",
   "execution_count": null,
   "id": "d117d68a",
   "metadata": {},
   "outputs": [],
   "source": [
    "df = df.dropna(subset=['POTENCIAL', '[7] média TPV_CRED', '[7] média SALDO UNICA'])\n",
    "df = df[(df['[7] média TPV_CRED'] != 0) & (df['[7] média SALDO UNICA'] != 0)]\n",
    "df = df.fillna(0).replace('', 0)"
   ]
  },
  {
   "cell_type": "code",
   "execution_count": null,
   "id": "b043a558",
   "metadata": {},
   "outputs": [],
   "source": [
    "df.to_csv(\"data_normalized.csv\", index=False)"
   ]
  }
 ],
 "metadata": {
  "kernelspec": {
   "display_name": "Python 3",
   "language": "python",
   "name": "python3"
  },
  "language_info": {
   "codemirror_mode": {
    "name": "ipython",
    "version": 3
   },
   "file_extension": ".py",
   "mimetype": "text/x-python",
   "name": "python",
   "nbconvert_exporter": "python",
   "pygments_lexer": "ipython3",
   "version": "3.12.1"
  }
 },
 "nbformat": 4,
 "nbformat_minor": 5
}
