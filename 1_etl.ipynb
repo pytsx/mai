{
 "cells": [
  {
   "cell_type": "markdown",
   "id": "8d53565b",
   "metadata": {},
   "source": [
    "## 1. Import"
   ]
  },
  {
   "cell_type": "code",
   "execution_count": 1,
   "id": "592c7b18",
   "metadata": {},
   "outputs": [],
   "source": [
    "from core.dataframe import Dataframe\n",
    "from datetime  import timedelta"
   ]
  },
  {
   "cell_type": "code",
   "execution_count": 2,
   "id": "e7101b5b",
   "metadata": {},
   "outputs": [],
   "source": [
    "df=Dataframe.read_tdsx(r\"./datasource/Base Propensão Antecipação - v2.tdsx\") # passar o id da tabela no tableau para baixar"
   ]
  },
  {
   "cell_type": "code",
   "execution_count": 3,
   "id": "026b04f8",
   "metadata": {},
   "outputs": [
    {
     "data": {
      "text/html": [
       "<div>\n",
       "<style scoped>\n",
       "    .dataframe tbody tr th:only-of-type {\n",
       "        vertical-align: middle;\n",
       "    }\n",
       "\n",
       "    .dataframe tbody tr th {\n",
       "        vertical-align: top;\n",
       "    }\n",
       "\n",
       "    .dataframe thead th {\n",
       "        text-align: right;\n",
       "    }\n",
       "</style>\n",
       "<table border=\"1\" class=\"dataframe\">\n",
       "  <thead>\n",
       "    <tr style=\"text-align: right;\">\n",
       "      <th></th>\n",
       "      <th>ANTECIPA</th>\n",
       "      <th>dias_desde_ultima_antecipacao</th>\n",
       "      <th>CNPJ</th>\n",
       "      <th>DATA</th>\n",
       "      <th>dias_ate_primeira_antecipacao</th>\n",
       "      <th>TPV_CRED</th>\n",
       "      <th>QTD_TRN UNICA</th>\n",
       "      <th>dias_desde_primeiro_tpv</th>\n",
       "      <th>SISTEMA</th>\n",
       "      <th>SALDO UNICA</th>\n",
       "      <th>UF</th>\n",
       "      <th>CIDADE</th>\n",
       "      <th>GERENTE</th>\n",
       "      <th>Região</th>\n",
       "    </tr>\n",
       "  </thead>\n",
       "  <tbody>\n",
       "    <tr>\n",
       "      <th>0</th>\n",
       "      <td>0</td>\n",
       "      <td>1</td>\n",
       "      <td>24940522000131</td>\n",
       "      <td>2025-10-16</td>\n",
       "      <td>267.0</td>\n",
       "      <td>8496.80</td>\n",
       "      <td>113</td>\n",
       "      <td>912</td>\n",
       "      <td>NaN</td>\n",
       "      <td>316400.63</td>\n",
       "      <td>GO</td>\n",
       "      <td>MAMBAI</td>\n",
       "      <td>ANIZIO FILHO</td>\n",
       "      <td>CENTRO-OESTE</td>\n",
       "    </tr>\n",
       "    <tr>\n",
       "      <th>1</th>\n",
       "      <td>0</td>\n",
       "      <td>2</td>\n",
       "      <td>24940522000131</td>\n",
       "      <td>2025-10-15</td>\n",
       "      <td>266.0</td>\n",
       "      <td>12961.51</td>\n",
       "      <td>163</td>\n",
       "      <td>911</td>\n",
       "      <td>NaN</td>\n",
       "      <td>308631.62</td>\n",
       "      <td>GO</td>\n",
       "      <td>MAMBAI</td>\n",
       "      <td>ANIZIO FILHO</td>\n",
       "      <td>CENTRO-OESTE</td>\n",
       "    </tr>\n",
       "    <tr>\n",
       "      <th>2</th>\n",
       "      <td>0</td>\n",
       "      <td>4</td>\n",
       "      <td>24940522000131</td>\n",
       "      <td>2025-10-13</td>\n",
       "      <td>264.0</td>\n",
       "      <td>6551.58</td>\n",
       "      <td>107</td>\n",
       "      <td>909</td>\n",
       "      <td>NaN</td>\n",
       "      <td>244213.49</td>\n",
       "      <td>GO</td>\n",
       "      <td>MAMBAI</td>\n",
       "      <td>ANIZIO FILHO</td>\n",
       "      <td>CENTRO-OESTE</td>\n",
       "    </tr>\n",
       "    <tr>\n",
       "      <th>3</th>\n",
       "      <td>0</td>\n",
       "      <td>8</td>\n",
       "      <td>24940522000131</td>\n",
       "      <td>2025-10-09</td>\n",
       "      <td>260.0</td>\n",
       "      <td>9556.97</td>\n",
       "      <td>122</td>\n",
       "      <td>905</td>\n",
       "      <td>NaN</td>\n",
       "      <td>233943.55</td>\n",
       "      <td>GO</td>\n",
       "      <td>MAMBAI</td>\n",
       "      <td>ANIZIO FILHO</td>\n",
       "      <td>CENTRO-OESTE</td>\n",
       "    </tr>\n",
       "    <tr>\n",
       "      <th>4</th>\n",
       "      <td>0</td>\n",
       "      <td>11</td>\n",
       "      <td>24940522000131</td>\n",
       "      <td>2025-10-06</td>\n",
       "      <td>257.0</td>\n",
       "      <td>10247.04</td>\n",
       "      <td>92</td>\n",
       "      <td>902</td>\n",
       "      <td>NaN</td>\n",
       "      <td>200122.26</td>\n",
       "      <td>GO</td>\n",
       "      <td>MAMBAI</td>\n",
       "      <td>ANIZIO FILHO</td>\n",
       "      <td>CENTRO-OESTE</td>\n",
       "    </tr>\n",
       "  </tbody>\n",
       "</table>\n",
       "</div>"
      ],
      "text/plain": [
       "   ANTECIPA  dias_desde_ultima_antecipacao            CNPJ        DATA  \\\n",
       "0         0                              1  24940522000131  2025-10-16   \n",
       "1         0                              2  24940522000131  2025-10-15   \n",
       "2         0                              4  24940522000131  2025-10-13   \n",
       "3         0                              8  24940522000131  2025-10-09   \n",
       "4         0                             11  24940522000131  2025-10-06   \n",
       "\n",
       "   dias_ate_primeira_antecipacao  TPV_CRED  QTD_TRN UNICA  \\\n",
       "0                          267.0   8496.80            113   \n",
       "1                          266.0  12961.51            163   \n",
       "2                          264.0   6551.58            107   \n",
       "3                          260.0   9556.97            122   \n",
       "4                          257.0  10247.04             92   \n",
       "\n",
       "   dias_desde_primeiro_tpv  SISTEMA  SALDO UNICA  UF  CIDADE       GERENTE  \\\n",
       "0                      912      NaN    316400.63  GO  MAMBAI  ANIZIO FILHO   \n",
       "1                      911      NaN    308631.62  GO  MAMBAI  ANIZIO FILHO   \n",
       "2                      909      NaN    244213.49  GO  MAMBAI  ANIZIO FILHO   \n",
       "3                      905      NaN    233943.55  GO  MAMBAI  ANIZIO FILHO   \n",
       "4                      902      NaN    200122.26  GO  MAMBAI  ANIZIO FILHO   \n",
       "\n",
       "         Região  \n",
       "0  CENTRO-OESTE  \n",
       "1  CENTRO-OESTE  \n",
       "2  CENTRO-OESTE  \n",
       "3  CENTRO-OESTE  \n",
       "4  CENTRO-OESTE  "
      ]
     },
     "execution_count": 3,
     "metadata": {},
     "output_type": "execute_result"
    }
   ],
   "source": [
    "df.head(5)"
   ]
  },
  {
   "cell_type": "code",
   "execution_count": 4,
   "id": "16594261",
   "metadata": {},
   "outputs": [
    {
     "name": "stdout",
     "output_type": "stream",
     "text": [
      "Informações do dataset:\n",
      "Shape do dataset: (435042, 14)\n",
      "\n",
      "Distribuição da variável target:\n",
      "ANTECIPA\n",
      "0    410148\n",
      "1     24894\n",
      "Name: count, dtype: int64\n",
      "==================================\n"
     ]
    }
   ],
   "source": [
    "\n",
    "# Verificar informações do dataset\n",
    "print(\"Informações do dataset:\")\n",
    "print(\"Shape do dataset:\", df.shape)\n",
    "\n",
    "print(\"\\nDistribuição da variável target:\")\n",
    "print(df['ANTECIPA'].value_counts())\n",
    "print(\"=\" * 34)"
   ]
  },
  {
   "cell_type": "code",
   "execution_count": 5,
   "id": "202498c9",
   "metadata": {},
   "outputs": [
    {
     "name": "stdout",
     "output_type": "stream",
     "text": [
      "2025-10-17\n"
     ]
    }
   ],
   "source": [
    "print(df[\"DATA\"].max())"
   ]
  },
  {
   "cell_type": "code",
   "execution_count": 6,
   "id": "6efe01bc",
   "metadata": {},
   "outputs": [
    {
     "data": {
      "text/html": [
       "<div>\n",
       "<style scoped>\n",
       "    .dataframe tbody tr th:only-of-type {\n",
       "        vertical-align: middle;\n",
       "    }\n",
       "\n",
       "    .dataframe tbody tr th {\n",
       "        vertical-align: top;\n",
       "    }\n",
       "\n",
       "    .dataframe thead th {\n",
       "        text-align: right;\n",
       "    }\n",
       "</style>\n",
       "<table border=\"1\" class=\"dataframe\">\n",
       "  <thead>\n",
       "    <tr style=\"text-align: right;\">\n",
       "      <th></th>\n",
       "      <th>ANTECIPA</th>\n",
       "      <th>dias_desde_ultima_antecipacao</th>\n",
       "      <th>CNPJ</th>\n",
       "      <th>DATA</th>\n",
       "      <th>dias_ate_primeira_antecipacao</th>\n",
       "      <th>TPV_CRED</th>\n",
       "      <th>QTD_TRN UNICA</th>\n",
       "      <th>dias_desde_primeiro_tpv</th>\n",
       "      <th>SALDO UNICA</th>\n",
       "      <th>UF</th>\n",
       "      <th>CIDADE</th>\n",
       "      <th>GERENTE</th>\n",
       "      <th>Região</th>\n",
       "    </tr>\n",
       "  </thead>\n",
       "  <tbody>\n",
       "    <tr>\n",
       "      <th>0</th>\n",
       "      <td>0</td>\n",
       "      <td>1</td>\n",
       "      <td>24940522000131</td>\n",
       "      <td>2025-10-16</td>\n",
       "      <td>267.0</td>\n",
       "      <td>8496.80</td>\n",
       "      <td>113</td>\n",
       "      <td>912</td>\n",
       "      <td>316400.63</td>\n",
       "      <td>GO</td>\n",
       "      <td>MAMBAI</td>\n",
       "      <td>ANIZIO FILHO</td>\n",
       "      <td>CENTRO-OESTE</td>\n",
       "    </tr>\n",
       "    <tr>\n",
       "      <th>1</th>\n",
       "      <td>0</td>\n",
       "      <td>2</td>\n",
       "      <td>24940522000131</td>\n",
       "      <td>2025-10-15</td>\n",
       "      <td>266.0</td>\n",
       "      <td>12961.51</td>\n",
       "      <td>163</td>\n",
       "      <td>911</td>\n",
       "      <td>308631.62</td>\n",
       "      <td>GO</td>\n",
       "      <td>MAMBAI</td>\n",
       "      <td>ANIZIO FILHO</td>\n",
       "      <td>CENTRO-OESTE</td>\n",
       "    </tr>\n",
       "    <tr>\n",
       "      <th>2</th>\n",
       "      <td>0</td>\n",
       "      <td>4</td>\n",
       "      <td>24940522000131</td>\n",
       "      <td>2025-10-13</td>\n",
       "      <td>264.0</td>\n",
       "      <td>6551.58</td>\n",
       "      <td>107</td>\n",
       "      <td>909</td>\n",
       "      <td>244213.49</td>\n",
       "      <td>GO</td>\n",
       "      <td>MAMBAI</td>\n",
       "      <td>ANIZIO FILHO</td>\n",
       "      <td>CENTRO-OESTE</td>\n",
       "    </tr>\n",
       "    <tr>\n",
       "      <th>3</th>\n",
       "      <td>0</td>\n",
       "      <td>8</td>\n",
       "      <td>24940522000131</td>\n",
       "      <td>2025-10-09</td>\n",
       "      <td>260.0</td>\n",
       "      <td>9556.97</td>\n",
       "      <td>122</td>\n",
       "      <td>905</td>\n",
       "      <td>233943.55</td>\n",
       "      <td>GO</td>\n",
       "      <td>MAMBAI</td>\n",
       "      <td>ANIZIO FILHO</td>\n",
       "      <td>CENTRO-OESTE</td>\n",
       "    </tr>\n",
       "    <tr>\n",
       "      <th>4</th>\n",
       "      <td>0</td>\n",
       "      <td>11</td>\n",
       "      <td>24940522000131</td>\n",
       "      <td>2025-10-06</td>\n",
       "      <td>257.0</td>\n",
       "      <td>10247.04</td>\n",
       "      <td>92</td>\n",
       "      <td>902</td>\n",
       "      <td>200122.26</td>\n",
       "      <td>GO</td>\n",
       "      <td>MAMBAI</td>\n",
       "      <td>ANIZIO FILHO</td>\n",
       "      <td>CENTRO-OESTE</td>\n",
       "    </tr>\n",
       "  </tbody>\n",
       "</table>\n",
       "</div>"
      ],
      "text/plain": [
       "   ANTECIPA  dias_desde_ultima_antecipacao            CNPJ        DATA  \\\n",
       "0         0                              1  24940522000131  2025-10-16   \n",
       "1         0                              2  24940522000131  2025-10-15   \n",
       "2         0                              4  24940522000131  2025-10-13   \n",
       "3         0                              8  24940522000131  2025-10-09   \n",
       "4         0                             11  24940522000131  2025-10-06   \n",
       "\n",
       "   dias_ate_primeira_antecipacao  TPV_CRED  QTD_TRN UNICA  \\\n",
       "0                          267.0   8496.80            113   \n",
       "1                          266.0  12961.51            163   \n",
       "2                          264.0   6551.58            107   \n",
       "3                          260.0   9556.97            122   \n",
       "4                          257.0  10247.04             92   \n",
       "\n",
       "   dias_desde_primeiro_tpv  SALDO UNICA  UF  CIDADE       GERENTE  \\\n",
       "0                      912    316400.63  GO  MAMBAI  ANIZIO FILHO   \n",
       "1                      911    308631.62  GO  MAMBAI  ANIZIO FILHO   \n",
       "2                      909    244213.49  GO  MAMBAI  ANIZIO FILHO   \n",
       "3                      905    233943.55  GO  MAMBAI  ANIZIO FILHO   \n",
       "4                      902    200122.26  GO  MAMBAI  ANIZIO FILHO   \n",
       "\n",
       "         Região  \n",
       "0  CENTRO-OESTE  \n",
       "1  CENTRO-OESTE  \n",
       "2  CENTRO-OESTE  \n",
       "3  CENTRO-OESTE  \n",
       "4  CENTRO-OESTE  "
      ]
     },
     "execution_count": 6,
     "metadata": {},
     "output_type": "execute_result"
    }
   ],
   "source": [
    "df = df.drop(\"SISTEMA\", axis=1)\n",
    "df.fillna(0,inplace=True)\n",
    "df.head(5)"
   ]
  },
  {
   "cell_type": "code",
   "execution_count": 7,
   "id": "28abcfeb",
   "metadata": {},
   "outputs": [
    {
     "name": "stdout",
     "output_type": "stream",
     "text": [
      "Informações do dataset:\n",
      "Shape do dataset: (435042, 13)\n",
      "\n",
      "Distribuição da variável target:\n",
      "ANTECIPA\n",
      "0    410148\n",
      "1     24894\n",
      "Name: count, dtype: int64\n",
      "==================================\n"
     ]
    }
   ],
   "source": [
    "# Verificar informações do dataset\n",
    "print(\"Informações do dataset:\")\n",
    "print(\"Shape do dataset:\", df.shape)\n",
    "\n",
    "print(\"\\nDistribuição da variável target:\")\n",
    "print(df['ANTECIPA'].value_counts())\n",
    "print(\"=\" * 34)"
   ]
  },
  {
   "cell_type": "code",
   "execution_count": 8,
   "id": "818db8e9",
   "metadata": {},
   "outputs": [],
   "source": [
    "df[\"UF\"] = Dataframe.factorize(df[\"UF\"])[0]\n",
    "df[\"CIDADE\"] = Dataframe.factorize(df[\"CIDADE\"])[0]\n",
    "df[\"GERENTE\"] = Dataframe.factorize(df[\"GERENTE\"])[0]\n",
    "df[\"Região\"] = Dataframe.factorize(df[\"Região\"])[0]\n",
    "df[\"ANTECIPA\"] = df['ANTECIPA'].astype(int)"
   ]
  },
  {
   "cell_type": "code",
   "execution_count": null,
   "id": "683201d8",
   "metadata": {},
   "outputs": [],
   "source": [
    "df = df.sort_values(['CNPJ', 'DATA'])\n",
    "\n",
    "df = Dataframe.generate_ema_grid(\n",
    "  df, \n",
    "  groupby='CNPJ', \n",
    "  value_columns=['SALDO UNICA', 'TPV_CRED', 'QTD_TRN UNICA'], \n",
    "  windows=[7, 15, 30, 60, 90]\n",
    ")"
   ]
  },
  {
   "cell_type": "code",
   "execution_count": 10,
   "id": "a505b083",
   "metadata": {},
   "outputs": [],
   "source": [
    "df = df.sort_values(['CIDADE', 'DATA'])\n",
    "\n",
    "df = Dataframe.generate_ema_grid(\n",
    "  df, \n",
    "  groupby='CIDADE', \n",
    "  value_columns=['SALDO UNICA', 'TPV_CRED', 'QTD_TRN UNICA'], \n",
    "  windows=[7, 15, 30, 60, 90]\n",
    ")"
   ]
  },
  {
   "cell_type": "code",
   "execution_count": 11,
   "id": "57c70043",
   "metadata": {},
   "outputs": [
    {
     "name": "stderr",
     "output_type": "stream",
     "text": [
      "c:\\Users\\henri\\Desktop\\mai\\core\\dataframe\\__init__.py:68: UserWarning: The argument 'infer_datetime_format' is deprecated and will be removed in a future version. A strict version of it is now the default, see https://pandas.pydata.org/pdeps/0004-consistent-to-datetime-parsing.html. You can safely remove this argument.\n",
      "  return pd.to_datetime(\n"
     ]
    }
   ],
   "source": [
    "\n",
    "# Converter para string primeiro, depois para datetime\n",
    "df['DATA'] = Dataframe.to_datetime(df['DATA'].astype(str))\n",
    "\n",
    "# Extrair features temporais\n",
    "df['ano'] = df['DATA'].dt.year\n",
    "df['mes'] = df['DATA'].dt.month\n",
    "df['dia'] = df['DATA'].dt.day\n",
    "df['dia_semana'] = df['DATA'].dt.dayofweek  # 0=Segunda, 6=Domingo\n",
    "\n",
    "maxdata = df['DATA'].max() - timedelta(days=1)"
   ]
  },
  {
   "cell_type": "code",
   "execution_count": 12,
   "id": "f88b5810",
   "metadata": {},
   "outputs": [],
   "source": [
    "df = df.sort_values(['dia_semana', 'DATA'])\n",
    "\n",
    "df = Dataframe.generate_ema_grid(\n",
    "  df, \n",
    "  groupby='dia_semana', \n",
    "  value_columns=['SALDO UNICA', 'TPV_CRED', 'QTD_TRN UNICA'], \n",
    "  windows=[7, 15, 30, 60, 90]\n",
    ")"
   ]
  },
  {
   "cell_type": "code",
   "execution_count": 13,
   "id": "d4f03827",
   "metadata": {},
   "outputs": [],
   "source": [
    "\n",
    "testdf = df[df['DATA'] == maxdata ]\n",
    "df = df[df['DATA'] < maxdata ]"
   ]
  },
  {
   "cell_type": "code",
   "execution_count": 14,
   "id": "295ef469",
   "metadata": {},
   "outputs": [],
   "source": [
    "df = df.drop('DATA', axis=1)\n",
    "testdf = testdf.drop('DATA', axis=1)"
   ]
  },
  {
   "cell_type": "code",
   "execution_count": null,
   "id": "b043a558",
   "metadata": {},
   "outputs": [],
   "source": [
    "df.to_csv(\"./datasource/train_base.csv\", index=False)\n",
    "testdf.to_csv(\"./datasource/test_base.csv\", index=False)"
   ]
  },
  {
   "cell_type": "code",
   "execution_count": 16,
   "id": "480f8abb",
   "metadata": {},
   "outputs": [],
   "source": [
    "del df\n",
    "del testdf"
   ]
  }
 ],
 "metadata": {
  "kernelspec": {
   "display_name": "Python 3",
   "language": "python",
   "name": "python3"
  },
  "language_info": {
   "codemirror_mode": {
    "name": "ipython",
    "version": 3
   },
   "file_extension": ".py",
   "mimetype": "text/x-python",
   "name": "python",
   "nbconvert_exporter": "python",
   "pygments_lexer": "ipython3",
   "version": "3.12.1"
  }
 },
 "nbformat": 4,
 "nbformat_minor": 5
}
